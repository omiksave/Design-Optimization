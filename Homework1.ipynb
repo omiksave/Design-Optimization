{
 "cells": [
  {
   "cell_type": "code",
   "execution_count": 19,
   "outputs": [],
   "source": [
    "import numpy as np\n",
    "from scipy.optimize import minimize\n",
    "from scipy.optimize import LinearConstraint\n",
    "from scipy.optimize import Bounds"
   ],
   "metadata": {
    "collapsed": false,
    "pycharm": {
     "name": "#%% Importing Libraries\n"
    }
   }
  },
  {
   "cell_type": "code",
   "execution_count": 20,
   "outputs": [],
   "source": [
    "bounds = Bounds([-10,-10,-10,-10,-10],[10,10,10,10,10])\n",
    "linear_constraints = LinearConstraint([[1,3,0,0,0],\n",
    "                                       [0,0,1,1,-2],\n",
    "                                       [0,1,0,0,-1]]\n",
    "                                      ,[0,0,0],[0,0,0])"
   ],
   "metadata": {
    "collapsed": false,
    "pycharm": {
     "name": "#%% Defining Problem\n"
    }
   }
  },
  {
   "cell_type": "code",
   "execution_count": 24,
   "outputs": [],
   "source": [
    "def cost_func(x):\n",
    "    return sum((x[1]-x[2])**2+(x[2]+x[3]-2)**2+(x[4]-1)**2+(x[5]-1)**2)"
   ],
   "metadata": {
    "collapsed": false,
    "pycharm": {
     "name": "#%% Defining Cost Function\n"
    }
   }
  },
  {
   "cell_type": "code",
   "execution_count": null,
   "outputs": [],
   "source": [
    "x0 = np\n"
   ],
   "metadata": {
    "collapsed": false,
    "pycharm": {
     "name": "#%% Solving Problem\n"
    }
   }
  }
 ],
 "metadata": {
  "kernelspec": {
   "display_name": "Python 3",
   "language": "python",
   "name": "python3"
  },
  "language_info": {
   "codemirror_mode": {
    "name": "ipython",
    "version": 2
   },
   "file_extension": ".py",
   "mimetype": "text/x-python",
   "name": "python",
   "nbconvert_exporter": "python",
   "pygments_lexer": "ipython2",
   "version": "2.7.6"
  },
  "pycharm": {
   "stem_cell": {
    "cell_type": "raw",
    "source": [
     "# Homework 1"
    ],
    "metadata": {
     "collapsed": false
    }
   }
  }
 },
 "nbformat": 4,
 "nbformat_minor": 0
}