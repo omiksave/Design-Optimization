{
 "cells": [
  {
   "cell_type": "markdown",
   "metadata": {
    "pycharm": {
     "name": "#%% md\n"
    }
   },
   "source": [
    "# <h1>Homework 1"
   ]
  },
  {
   "cell_type": "markdown",
   "metadata": {
    "pycharm": {
     "name": "#%% md\n"
    }
   },
   "source": [
    "# <h2>Importing Libraries"
   ]
  },
  {
   "cell_type": "code",
   "execution_count": 1,
   "metadata": {
    "pycharm": {
     "name": "#%%\n"
    }
   },
   "outputs": [],
   "source": [
    "import numpy as np\n",
    "from scipy.optimize import minimize\n",
    "from scipy.optimize import LinearConstraint\n",
    "from scipy.optimize import Bounds\n"
   ]
  },
  {
   "cell_type": "markdown",
   "metadata": {},
   "source": [
    "# <h2>Defining Problem"
   ]
  },
  {
   "cell_type": "code",
   "execution_count": 2,
   "metadata": {
    "pycharm": {
     "name": "#%%\n"
    }
   },
   "outputs": [],
   "source": [
    "bounds = Bounds([-10,-10,-10,-10,-10],[10,10,10,10,10])\n",
    "linear_constraints = LinearConstraint([[1,3,0,0,0],\n",
    "                                       [0,0,1,1,-2],\n",
    "                                       [0,1,0,0,-1]]\n",
    "                                      ,[0,0,0],[0,0,0])"
   ]
  },
  {
   "cell_type": "markdown",
   "metadata": {
    "pycharm": {
     "name": "#%% md\n"
    }
   },
   "source": [
    "# <h2>Defining Cost Function"
   ]
  },
  {
   "cell_type": "code",
   "execution_count": 3,
   "metadata": {
    "pycharm": {
     "name": "#%%\n"
    }
   },
   "outputs": [],
   "source": [
    "def cost_func(x):\n",
    "    return (x[0]-x[1])**2+(x[1]+x[2]-2)**2+(x[3]-1)**2+(x[4]-1)**2"
   ]
  },
  {
   "cell_type": "markdown",
   "metadata": {
    "pycharm": {
     "name": "#%% md\n"
    }
   },
   "source": [
    "# <h2>Solving Problem\n",
    "# <h4>Initial guess\n",
    "$x_{0} = \\begin{bmatrix}\n",
    "1&2&3&4&5\n",
    "\\end{bmatrix}$\n",
    "# <h4>Alternate guess\n",
    "$x_{0} = \\begin{bmatrix}\n",
    "-5&-4&-3&-2&-1\n",
    "\\end{bmatrix}$"
   ]
  },
  {
   "cell_type": "code",
   "execution_count": 4,
   "metadata": {
    "pycharm": {
     "name": "#%%\n"
    }
   },
   "outputs": [],
   "source": [
    "x0 = np.array([1,2,3,4,5])\n",
    "sol = minimize(cost_func,x0,method='SLSQP',constraints=linear_constraints,bounds=bounds)\n"
   ]
  },
  {
   "cell_type": "markdown",
   "source": [
    "# <h2> Solution"
   ],
   "metadata": {
    "collapsed": false,
    "pycharm": {
     "name": "#%% md\n"
    }
   }
  },
  {
   "cell_type": "code",
   "execution_count": 5,
   "metadata": {
    "pycharm": {
     "name": "#%% Printing Solution\n"
    }
   },
   "outputs": [
    {
     "name": "stdout",
     "output_type": "stream",
     "text": [
      "4.09302325588931 \n",
      " [-0.76743912  0.25581304  0.62791188 -0.1162858   0.25581304]\n"
     ]
    }
   ],
   "source": [
    "print(sol.fun,'\\n',sol.x)"
   ]
  },
  {
   "cell_type": "markdown",
   "metadata": {},
   "source": [
    "The optimization of this cost function resulted in a minimum value of $4.0930$.<br/>\n",
    "Solution with $x_{0} =\n",
    " \\begin{bmatrix}\n",
    "   1 & 2 & 3 & 4 & 5\n",
    "  \\end{bmatrix}\n",
    "$ is <br/>$x_{sol} = \\begin{bmatrix}\n",
    "-0.76743912 & 0.25581304 & 0.62791188 & -0.1162858  & 0.25581304\n",
    "\\end{bmatrix}\n",
    "$\n",
    "<br/>\n",
    "Updating the parameters to $x_{0} =\n",
    " \\begin{bmatrix}\n",
    "   -5 & -4 & -3 & -2 & -1\n",
    "  \\end{bmatrix}\n",
    "$ generates the solution as $x_{sol} = \\begin{bmatrix}\n",
    "-0.76744227 & 0.25581409 & 0.62790622 & -0.11627804 & 0.25581409\n",
    "\\end{bmatrix}\n",
    "$\n",
    "<br/>\n",
    "It can thus be observed that the change in optimum solution of $x$ with change of initial guess only changes\n",
    "after the $4^{th}$ decimal place. In other words, we can say that there is no significant change in optimum\n",
    "solution. <br/>\n",
    "Thus, updating the initial guess **did not** change the optimum solution"
   ]
  }
 ],
 "metadata": {
  "kernelspec": {
   "display_name": "Python 3 (ipykernel)",
   "language": "python",
   "name": "python3"
  },
  "language_info": {
   "codemirror_mode": {
    "name": "ipython",
    "version": 3
   },
   "file_extension": ".py",
   "mimetype": "text/x-python",
   "name": "python",
   "nbconvert_exporter": "python",
   "pygments_lexer": "ipython3",
   "version": "3.9.5"
  }
 },
 "nbformat": 4,
 "nbformat_minor": 1
}