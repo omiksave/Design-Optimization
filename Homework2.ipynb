{
 "cells": [
  {
   "cell_type": "markdown",
   "source": [
    "# <h1>Homework 2"
   ],
   "metadata": {
    "collapsed": false
   }
  },
  {
   "cell_type": "markdown",
   "source": [
    "# <h1> Problem 1\n",
    "We have been given the following function <br/>\n",
    "$ f = 2x_{1}^2 - 4x_{1}x_{2} + 1.5x_{2}^2 + x_{2}\n",
    "$\n",
    "<br/>\n",
    "First, let's find the stationary point <br/>\n",
    "$i.e \\; (x_{1},x_{2})$ where $\\frac{\\partial f}{\\partial x_1} = 0$ and $\\frac{\\partial f}{\\partial x_2} = 0$\n",
    "simultaneously\n",
    "<br/>\n",
    "Thus, $\\frac{\\partial f}{\\partial x_1} = 4x_{1} - 4x_{2} \\rightarrow (1)$\n",
    "<br/> and <br/>\n",
    "$\\frac{\\partial f}{\\partial x_2} = -4x_{1} + 3x_{2} + 1 \\rightarrow (2)$\n",
    "<br/> Solving $(1)$ and $(2)$ simultaneously we get,\n",
    "$(x_{1},x_{2}) = [1,1]$\n",
    "<br/> Thus, stationary point of the function is $[1,1]$\n",
    "<br/> To find whether a point is saddle point for the function or not, we need to compute its hessian\n",
    "at the point.<br/>\n",
    "Therefore, $H = \\begin{bmatrix}\n",
    "   \\frac{\\partial^2 f}{\\partial x_{1}^2} & \\frac{\\partial^2 f}{\\partial x_{1}x_{2}}\\\\\n",
    "   \\frac{\\partial^2 f}{\\partial x_{2}x_{1}} & \\frac{\\partial^2 f}{\\partial x_{2}^2}\n",
    "  \\end{bmatrix}$\n",
    " <br/>\n",
    " $H = \\begin{bmatrix}\n",
    " 4 & -4\\\\\n",
    " -4 & 3\n",
    " \\end{bmatrix}$"
   ],
   "metadata": {
    "collapsed": false,
    "pycharm": {
     "name": "#%% md\n"
    }
   }
  },
  {
   "cell_type": "code",
   "execution_count": 5,
   "outputs": [
    {
     "name": "stdout",
     "output_type": "stream",
     "text": [
      "[ 7.53112887 -0.53112887]\n"
     ]
    }
   ],
   "source": [
    "import numpy as np\n",
    "from numpy import linalg as la\n",
    "eig,v = la.eig(np.array([[4 ,-4],[-4,3]]))\n",
    "print(eig)"
   ],
   "metadata": {
    "collapsed": false,
    "pycharm": {
     "name": "#%%\n"
    }
   }
  },
  {
   "cell_type": "markdown",
   "source": [
    "<br/> The resulting Hessian is an indefinite matrix, since the matrix eigen values are both positive and negative.\n",
    "Hence, for this function all stationary points are saddle points."
   ],
   "metadata": {
    "collapsed": false
   }
  },
  {
   "cell_type": "markdown",
   "source": [
    "<h1> Problem 2<br/>\n",
    "<h2> Part a"
   ],
   "metadata": {
    "collapsed": false,
    "pycharm": {
     "name": "#%% md\n"
    }
   }
  },
  {
   "cell_type": "markdown",
   "source": [
    "In this problem, we are asked to find the point on plane\n",
    "$x_{1} + 2x_{2} + 3x_{3} = 1$ closest to the point $(- 1,0,1)^{T}$\n",
    "<br/> Firstly, to convert this into an unconstrained problem we substitute <br/>\n",
    "$x_{1} = 1 - 2x_{2} - 3x_{3}$ <br/>\n",
    "Thus, distance of point from plane can be represented as <br/>\n",
    "$D = \\sqrt{(-1 -1 + 2x_{2} + 3x_{3})^{2} + (0-2x_{2})^{2} + (1-3x_{3})^{2} }$\n",
    "<br/>Thus, our job is to\n",
    "<br/> $minimize \\; D$"
   ],
   "metadata": {
    "collapsed": false,
    "pycharm": {
     "name": "#%% md\n"
    }
   }
  },
  {
   "cell_type": "code",
   "execution_count": 7,
   "outputs": [],
   "source": [
    "import numpy as np\n",
    "import math\n",
    "from scipy.optimize import minimize"
   ],
   "metadata": {
    "collapsed": false,
    "pycharm": {
     "name": "#%%\n"
    }
   }
  },
  {
   "cell_type": "code",
   "execution_count": 21,
   "outputs": [],
   "source": [
    "def cost_func(x):\n",
    "    return math.sqrt((-2+2*x[0]+3*x[1])**2+(2*x[0])**2+(1-3*x[1])**2)"
   ],
   "metadata": {
    "collapsed": false,
    "pycharm": {
     "name": "#%%\n"
    }
   }
  },
  {
   "cell_type": "code",
   "execution_count": 22,
   "outputs": [],
   "source": [
    "x0 = np.array([-1,-1])\n",
    "sol = minimize(cost_func,x0)"
   ],
   "metadata": {
    "collapsed": false,
    "pycharm": {
     "name": "#%%\n"
    }
   }
  },
  {
   "cell_type": "code",
   "execution_count": 29,
   "outputs": [
    {
     "name": "stdout",
     "output_type": "stream",
     "text": [
      "[x2,x3] =  [0.16666675 0.44444444]\n",
      "x1 =  -0.6666668279503635\n"
     ]
    }
   ],
   "source": [
    "print(\"[x2,x3] = \",sol.x)\n",
    "print(\"x1 = \",1-2*sol.x[0]-3*sol.x[1])"
   ],
   "metadata": {
    "collapsed": false,
    "pycharm": {
     "name": "#%%\n"
    }
   }
  },
  {
   "cell_type": "markdown",
   "source": [
    "Thus the point on plane $x_{1} + 2x_{2} + 3x_{3} = 1$ closest to the point $(- 1,0,1)^{T}$ is\n",
    "$\\begin{bmatrix}\n",
    "x_{1}\\\\\n",
    "x_{2}\\\\\n",
    "x_{3}\n",
    "\\end{bmatrix}$ = $\n",
    "\\begin{bmatrix}\n",
    "-0.6666\\\\\n",
    "0.1666\\\\\n",
    "0.4444\n",
    "\\end{bmatrix}$"
   ],
   "metadata": {
    "collapsed": false,
    "pycharm": {
     "name": "#%% md\n"
    }
   }
  },
  {
   "cell_type": "code",
   "execution_count": null,
   "outputs": [],
   "source": [],
   "metadata": {
    "collapsed": false,
    "pycharm": {
     "name": "#%%\n"
    }
   }
  }
 ],
 "metadata": {
  "kernelspec": {
   "display_name": "Python 3",
   "language": "python",
   "name": "python3"
  },
  "language_info": {
   "codemirror_mode": {
    "name": "ipython",
    "version": 2
   },
   "file_extension": ".py",
   "mimetype": "text/x-python",
   "name": "python",
   "nbconvert_exporter": "python",
   "pygments_lexer": "ipython2",
   "version": "2.7.6"
  }
 },
 "nbformat": 4,
 "nbformat_minor": 0
}