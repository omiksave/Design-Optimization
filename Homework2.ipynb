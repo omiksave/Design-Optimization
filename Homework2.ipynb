{
 "cells": [
  {
   "cell_type": "markdown",
   "source": [
    "# <h1>Homework 2"
   ],
   "metadata": {
    "collapsed": false
   }
  },
  {
   "cell_type": "markdown",
   "source": [
    "# <h1> Problem 1\n",
    "We have been given the following function </br>\n",
    "$ f = 2x_{1}^2 - 4x_{1}x_{2} + 1.5x_{2}^2 + x_{2}\n",
    "$\n",
    "</br>\n",
    "First, let's find the stationary point </br>\n",
    "$i.e \\; (x1,x2)$ where $\\frac{\\partial f}{\\partial x1} = 0$ and $\\frac{\\partial f}{\\partial x2} = 0$\n",
    "simultaneously\n",
    "</br>\n",
    "Thus, $\\frac{\\partial f}{\\partial x1} = 4x_{1} - 4x_{2} \\rightarrow (1)$\n",
    "</br> and </br>\n",
    "$\\frac{\\partial f}{\\partial x2} = -4x_{1} + 3x_{2} + 1 \\rightarrow (2)$\n",
    "</br> Solving $(1)$ and $(2)$ simultaneously we get,"
   ],
   "metadata": {
    "collapsed": false,
    "pycharm": {
     "name": "#%% md\n"
    }
   }
  }
 ],
 "metadata": {
  "kernelspec": {
   "display_name": "Python 3",
   "language": "python",
   "name": "python3"
  },
  "language_info": {
   "codemirror_mode": {
    "name": "ipython",
    "version": 2
   },
   "file_extension": ".py",
   "mimetype": "text/x-python",
   "name": "python",
   "nbconvert_exporter": "python",
   "pygments_lexer": "ipython2",
   "version": "2.7.6"
  }
 },
 "nbformat": 4,
 "nbformat_minor": 0
}