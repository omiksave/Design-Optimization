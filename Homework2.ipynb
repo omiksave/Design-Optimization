{
 "cells": [
  {
   "cell_type": "markdown",
   "source": [
    "# <h1>Homework 2"
   ],
   "metadata": {
    "collapsed": false
   }
  },
  {
   "cell_type": "markdown",
   "source": [
    "# <h1> Problem 1\n",
    "We have been given the following function <br/>\n",
    "$ f = 2x_{1}^2 - 4x_{1}x_{2} + 1.5x_{2}^2 + x_{2}\n",
    "$\n",
    "<br/>\n",
    "First, let's find the stationary point <br/>\n",
    "$i.e \\; (x_{1},x_{2})$ where $\\frac{\\partial f}{\\partial x_1} = 0$ and $\\frac{\\partial f}{\\partial x_2} = 0$\n",
    "simultaneously\n",
    "<br/>\n",
    "Thus, $\\frac{\\partial f}{\\partial x_1} = 4x_{1} - 4x_{2} \\rightarrow (1)$\n",
    "<br/> and <br/>\n",
    "$\\frac{\\partial f}{\\partial x_2} = -4x_{1} + 3x_{2} + 1 \\rightarrow (2)$\n",
    "<br/> Solving $(1)$ and $(2)$ simultaneously we get,\n",
    "$(x_{1},x_{2}) = [1,1]$\n",
    "<br/> Thus, stationary point of the function is $[1,1]$\n",
    "<br/> To find whether a point is saddle point for the function or not, we need to compute its hessian\n",
    "at the point.<br/>\n",
    "Therefore, $H = \\begin{bmatrix}\n",
    "   \\frac{\\partial^2 f}{\\partial x_{1}^2} & \\frac{\\partial^2 f}{\\partial x_{1}x_{2}}\\\\\n",
    "   \\frac{\\partial^2 f}{\\partial x_{2}x_{1}} & \\frac{\\partial^2 f}{\\partial x_{2}^2}\n",
    "  \\end{bmatrix}$\n",
    " <br/>\n",
    " $H = \\begin{bmatrix}\n",
    " 4 & -4\\\\\n",
    " -4 & 3\n",
    " \\end{bmatrix}$"
   ],
   "metadata": {
    "collapsed": false,
    "pycharm": {
     "name": "#%% md\n"
    }
   }
  },
  {
   "cell_type": "code",
   "execution_count": 1,
   "outputs": [
    {
     "name": "stdout",
     "output_type": "stream",
     "text": [
      "[ 7.53112887 -0.53112887]\n"
     ]
    }
   ],
   "source": [
    "import numpy as np\n",
    "from numpy import linalg as la\n",
    "eig,v = la.eig(np.array([[4 ,-4],[-4,3]]))\n",
    "print(eig)"
   ],
   "metadata": {
    "collapsed": false,
    "pycharm": {
     "name": "#%%\n"
    }
   }
  },
  {
   "cell_type": "markdown",
   "source": [
    "<br/> The resulting Hessian is an indefinite matrix, since the matrix eigen values are both positive and negative.\n",
    "Hence, for this function all stationary points are saddle points."
   ],
   "metadata": {
    "collapsed": false
   }
  },
  {
   "cell_type": "markdown",
   "source": [
    "<h1> Problem 2<br/>\n",
    "<h2> Part a"
   ],
   "metadata": {
    "collapsed": false,
    "pycharm": {
     "name": "#%% md\n"
    }
   }
  },
  {
   "cell_type": "markdown",
   "source": [
    "In this problem, we are asked to find the point on plane\n",
    "$x_{1} + 2x_{2} + 3x_{3} = 1$ closest to the point $(- 1,0,1)^{T}$\n",
    "<br/> Firstly, to convert this into an unconstrained problem we substitute <br/>\n",
    "$x_{1} = 1 - 2x_{2} - 3x_{3}$ <br/>\n",
    "Let the point be $(x_{1}^{*},x_{2}^{*},x_{3}^{*})$<br/>\n",
    "Thus, distance of given point from closest point can be represented as <br/>\n",
    "$D = \\sqrt{(-1 -1 + 2x_{2} + 3x_{3})^{2} + (0-x_{2})^{2} + (1-x_{3})^{2} }$\n",
    "<br/>Thus, our job is to\n",
    "<br/> $minimize \\; D$"
   ],
   "metadata": {
    "collapsed": false,
    "pycharm": {
     "name": "#%% md\n"
    }
   }
  },
  {
   "cell_type": "code",
   "execution_count": 2,
   "outputs": [],
   "source": [
    "import numpy as np\n",
    "import math\n",
    "from scipy.optimize import minimize"
   ],
   "metadata": {
    "collapsed": false,
    "pycharm": {
     "name": "#%%\n"
    }
   }
  },
  {
   "cell_type": "code",
   "execution_count": 3,
   "outputs": [],
   "source": [
    "def cost_func(x):\n",
    "    return math.sqrt((-2+2*x[0]+3*x[1])**2+(x[0])**2+(1-x[1])**2)"
   ],
   "metadata": {
    "collapsed": false,
    "pycharm": {
     "name": "#%%\n"
    }
   }
  },
  {
   "cell_type": "code",
   "execution_count": 4,
   "outputs": [],
   "source": [
    "x0 = np.array([-1,-1])\n",
    "sol = minimize(cost_func,x0)"
   ],
   "metadata": {
    "collapsed": false,
    "pycharm": {
     "name": "#%%\n"
    }
   }
  },
  {
   "cell_type": "code",
   "execution_count": 5,
   "outputs": [
    {
     "name": "stdout",
     "output_type": "stream",
     "text": [
      "[x2,x3] =  [-0.14285709  0.78571426]\n",
      "x1 =  -1.071428598689087\n"
     ]
    }
   ],
   "source": [
    "print(\"[x2,x3] = \",sol.x)\n",
    "print(\"x1 = \",1-2*sol.x[0]-3*sol.x[1])"
   ],
   "metadata": {
    "collapsed": false,
    "pycharm": {
     "name": "#%%\n"
    }
   }
  },
  {
   "cell_type": "markdown",
   "source": [
    "Thus the point on plane $x_{1} + 2x_{2} + 3x_{3} = 1$ closest to the point $(- 1,0,1)^{T}$ is\n",
    "$\\begin{bmatrix}\n",
    "x_{1}\\\\\n",
    "x_{2}\\\\\n",
    "x_{3}\n",
    "\\end{bmatrix}$ = $\n",
    "\\begin{bmatrix}\n",
    "-1.0714\\\\\n",
    "-0.1428\\\\\n",
    "0.7857\n",
    "\\end{bmatrix}$"
   ],
   "metadata": {
    "collapsed": false,
    "pycharm": {
     "name": "#%% md\n"
    }
   }
  },
  {
   "cell_type": "markdown",
   "source": [
    "<h2> Part b\n",
    "<h3> Gradient Descent Algorithm"
   ],
   "metadata": {
    "collapsed": false,
    "pycharm": {
     "name": "#%% md\n"
    }
   }
  },
  {
   "cell_type": "markdown",
   "source": [
    "In this problem, we first solve the optimization problem using gradient descent algorithm. The gradient descent\n",
    "algorithm implies that, <br/>\n",
    "for a function $f(x)$ that is differentiable, point $a^*$ that minimizes $f(x)$ is reached fastest if we go\n",
    "from $a_0$ in the direction of $a-\\nabla f(x)$ i.e. the negative gradient.<br/>\n",
    "We have already defined the function $D$ in the above problem. Minimizing $D$ is same as minimizing $D^2$.\n",
    "<br/>Thus, $\\nabla D^2 = \\begin{bmatrix}\n",
    "-8+10x_{2}+12x_{3}\\\\\n",
    "-14+12x_{2}+20x_{3}\n",
    "\\end{bmatrix}$"
   ],
   "metadata": {
    "collapsed": false,
    "pycharm": {
     "name": "#%% md\n"
    }
   }
  },
  {
   "cell_type": "code",
   "execution_count": 6,
   "outputs": [],
   "source": [
    "def cost_func(x):\n",
    "    return -8+10*x[0]+12*x[1],-14+12*x[0]+20*x[1]"
   ],
   "metadata": {
    "collapsed": false,
    "pycharm": {
     "name": "#%% Defining cost function of distance\n"
    }
   }
  },
  {
   "cell_type": "markdown",
   "source": [
    "Lets run the gradient descent for 200 iterations and plot the convergance. Let's assume $\\gamma = 0.05$ i.e.\n",
    "the learning rate."
   ],
   "metadata": {
    "collapsed": false,
    "pycharm": {
     "name": "#%% md\n"
    }
   }
  },
  {
   "cell_type": "code",
   "execution_count": 7,
   "outputs": [],
   "source": [
    "a = np.array([0,0])\n",
    "gamma = np.array(0.05)\n",
    "optim = np.array([-0.14285709,0.78571426])\n",
    "error = []\n",
    "for x in range(500):\n",
    "    a = a - gamma*cost_func(a)\n",
    "    error.append((a-optim)**2)"
   ],
   "metadata": {
    "collapsed": false,
    "pycharm": {
     "name": "#%% Solving the problem\n"
    }
   }
  },
  {
   "cell_type": "code",
   "execution_count": 8,
   "outputs": [
    {
     "data": {
      "text/plain": "<Figure size 432x288 with 1 Axes>",
      "image/png": "[encoded data removed]"
     },
     "metadata": {
      "needs_background": "light"
     },
     "output_type": "display_data"
    }
   ],
   "source": [
    "import matplotlib.pyplot as plt\n",
    "plt.figure(1);plt.clf()\n",
    "plt.plot(error)\n",
    "plt.gca().set_yscale('log')\n",
    "plt.xlabel('Iterations')\n",
    "plt.ylabel('$||a-a^{*}||$')\n",
    "plt.title('Log Linear Convergence Plot: Gradient Descent')\n",
    "plt.show()"
   ],
   "metadata": {
    "collapsed": false,
    "pycharm": {
     "name": "#%% Plotting the convergence\n"
    }
   }
  },
  {
   "cell_type": "code",
   "execution_count": 9,
   "outputs": [
    {
     "name": "stdout",
     "output_type": "stream",
     "text": [
      "[x2,x3] =  [-0.14285714  0.78571429]\n",
      "x1 =  -1.0714285714285714\n"
     ]
    }
   ],
   "source": [
    "print(\"[x2,x3] = \",a)\n",
    "print(\"x1 = \",1-2*a[0]-3*a[1])\n"
   ],
   "metadata": {
    "collapsed": false,
    "pycharm": {
     "name": "#%% Displaying Solution\n"
    }
   }
  },
  {
   "cell_type": "markdown",
   "source": [
    "<h3> Newton's Algorithm"
   ],
   "metadata": {
    "collapsed": false
   }
  },
  {
   "cell_type": "markdown",
   "source": [
    "Newton's algorithm states that the optimum solution $a^*$ that minimizes $f(x)$ is reached fastest if we go from\n",
    "$a_0$ in the direction of $a-\\frac{f'(x)}{f''(x)}$."
   ],
   "metadata": {
    "collapsed": false,
    "pycharm": {
     "name": "#%% md\n"
    }
   }
  },
  {
   "cell_type": "code",
   "execution_count": 10,
   "outputs": [],
   "source": [
    "from numpy.linalg import inv\n",
    "def cost_func(x):\n",
    "    return -8+10*x[0]+12*x[1],-14+12*x[0]+20*x[1]\n",
    "def hessian():\n",
    "    return inv(np.array([[10,12],[12,20]]))"
   ],
   "metadata": {
    "collapsed": false,
    "pycharm": {
     "name": "#%%\n"
    }
   }
  },
  {
   "cell_type": "code",
   "execution_count": 11,
   "outputs": [],
   "source": [
    "error = []\n",
    "a = np.array([1,-1])\n",
    "for i in range(200):\n",
    "    a = a-np.matmul(hessian(),cost_func(a))\n",
    "    error.append((optim-a)**2)"
   ],
   "metadata": {
    "collapsed": false,
    "pycharm": {
     "name": "#%%\n"
    }
   }
  },
  {
   "cell_type": "code",
   "execution_count": 12,
   "outputs": [
    {
     "name": "stdout",
     "output_type": "stream",
     "text": [
      "[x2,x3] =  [-0.14285714  0.78571429]\n",
      "x1 =  -1.0714285714285712\n"
     ]
    }
   ],
   "source": [
    "print(\"[x2,x3] = \",a)\n",
    "print(\"x1 = \",1-2*a[0]-3*a[1])"
   ],
   "metadata": {
    "collapsed": false,
    "pycharm": {
     "name": "#%% Displaying Solution\n"
    }
   }
  },
  {
   "cell_type": "code",
   "execution_count": 14,
   "outputs": [
    {
     "data": {
      "text/plain": "<Figure size 432x288 with 1 Axes>",
      "image/png": "[encoded data removed]"
     },
     "metadata": {
      "needs_background": "light"
     },
     "output_type": "display_data"
    }
   ],
   "source": [
    "import matplotlib.pyplot as plt\n",
    "plt.figure(1);plt.clf()\n",
    "plt.plot(error)\n",
    "plt.gca().set_yscale('log')\n",
    "plt.xlabel('Iterations')\n",
    "plt.ylabel('$||a-a^{*}||$')\n",
    "plt.title('Log Linear Convergence Plot: Newton\\'s Algorithm')\n",
    "plt.show()\n"
   ],
   "metadata": {
    "collapsed": false,
    "pycharm": {
     "name": "#%% Plotting the convergence\n"
    }
   }
  },
  {
   "cell_type": "code",
   "execution_count": 17,
   "outputs": [
    {
     "data": {
      "text/plain": "array([ 2., 28.])"
     },
     "execution_count": 17,
     "metadata": {},
     "output_type": "execute_result"
    }
   ],
   "source": [
    "eig,v = la.eig(np.array([[10,12],[12,20]]))\n",
    "eig"
   ],
   "metadata": {
    "collapsed": false,
    "pycharm": {
     "name": "#%%\n"
    }
   }
  },
  {
   "cell_type": "markdown",
   "source": [
    "<h2> Problem 3\n",
    "<h3> Part a"
   ],
   "metadata": {
    "collapsed": false,
    "pycharm": {
     "name": "#%% md\n"
    }
   }
  },
  {
   "cell_type": "markdown",
   "source": [
    "Prove $af(x) + bg(x)$ is convex for $a>0$ and $b>0$ where $f(x)$ and $g(x)$ is convex.\n",
    "<br/> Firstly, since $f(x)$ is convex we know,\n",
    "<br/> $f(\\lambda x_{1} + (1-\\lambda)x_2)\\leq \\lambda f(x_1) + (1-\\lambda)f(x_2)$,\n",
    "<br/> where $x_1,x_2 \\in \\mathscr{X}$ and $\\lambda \\in [0,1]$<br/>\n",
    "Thus, multiplying $a$ to the equation, we get <br/>\n",
    "$af(\\lambda x_{1} + (1-\\lambda)x_2)\\leq a\\lambda f(x_1) + a(1-\\lambda)f(x_2) \\rightarrow (1)$\n",
    "<br/> Similarly, since $g(x)$ is convex we get,\n",
    "$bg(\\lambda x_{1} + (1-\\lambda)x_2)\\leq b\\lambda g(x_1) + b(1-\\lambda)g(x_2) \\rightarrow (2)$\n",
    "<br/> Adding $(1)$ and $(2)$ we get,\n",
    "<br/>$af(\\lambda x_{1} + (1-\\lambda)x_2) + bg(\\lambda x_{1} + (1-\\lambda)x_2)\n",
    "\\leq a\\lambda f(x_1) + a(1-\\lambda)f(x_2) + b\\lambda g(x_1) + b(1-\\lambda)g(x_2)$\n",
    "<br/>$\\leq \\lambda(af(x_1)+bg(x_1)) + (1-\\lambda)(af(x_2)+bg(x_2))$\n",
    "<br/> Hence, by definition, $af(x)+bg(x)$ is convex for $a>0$, $b>0$"
   ],
   "metadata": {
    "collapsed": false,
    "pycharm": {
     "name": "#%% md\n"
    }
   }
  },
  {
   "cell_type": "markdown",
   "source": [
    "<h2> Part b"
   ],
   "metadata": {
    "collapsed": false,
    "pycharm": {
     "name": "#%% md\n"
    }
   }
  },
  {
   "cell_type": "markdown",
   "source": [
    "Find when $f(g(x))$ will be convex\n",
    "<br/> For any function $f(x)$ to be convex $f''(x) > 0$ for all $x \\in S$\n",
    "<br/> Thus, for the given problem $f''(x)>0$ and $g''(x)>0$ since $f(x)$ and $g(x)$ is convex.\n",
    "<br/> Let's find the second order derivative of $f(g(x))$,\n",
    "<br/> By chain rule of differentiation we get,\n",
    "<br/> $\\nabla f(g(x)) = f'(g(x)) \\times g'(x)$\n",
    "<br/> $\\nabla^{2} f(g(x)) = g'(x)\\times f''(g(x))\\times g'(x) + f'(g(x))\\times g''(x)$\n",
    "<br/> $\\nabla^{2} f(g(x)) = (g'(x))^{2}f''(g(x)) + f'(g(x))g''(x)$\n",
    "<br/> Thus, for convexity $(g'(x))^{2}f''(g(x)) + f'(g(x))g''(x)>0$ strictly.\n",
    "<br/> If we take a closer look at all the terms, we realize, $(g'(x))^{2}>0$, $f''(g(x))>0$ since $f(x)$ is convex\n",
    "<br/> $g''(x)>0$ since $g(x)$ is convex. Thus, convexity of $f(g(x))$ is totally dependent on whether $f'(g(x))>0$.\n",
    "<br/> That means $f$ should be a function where $f'>0$. For example, if $f(x) = x^3$, then $f'(x) = 3x^{2} >0$.\n",
    "<br/> Only under these circumstances $f(g(x))$ will be convex."
   ],
   "metadata": {
    "collapsed": false,
    "pycharm": {
     "name": "#%% md\n"
    }
   }
  },
  {
   "cell_type": "markdown",
   "source": [
    "<h2> Problem 4"
   ],
   "metadata": {
    "collapsed": false,
    "pycharm": {
     "name": "#%% md\n"
    }
   }
  },
  {
   "cell_type": "markdown",
   "source": [
    "Prove $f(x_1) \\geq f(x_0) + g_{x_0}^{T}.(x_1 - x_0)$\n",
    "<br/> We can also write this as,\n",
    "<br/> $f(x_1)-f(x_0)\\geq g_{x_0}^{T}.(x_1 - x_0) \\rightarrow (1)$\n",
    "<br/> Since, $f(x)$ is convex we know that,\n",
    "<br/>$f(\\lambda x_1 - (1-\\lambda)x_0) \\leq \\lambda f(x_1) + (1-\\lambda)f(x_0)$\n",
    "<br/> Where $x_1,x_0 \\in \\mathscr{X}$ and $\\lambda \\in [0,1]$\n",
    "<br/>$f(x_0 + \\lambda (x_1-x_0)) \\leq \\lambda f(x_1) + (1-\\lambda)f(x_0)$\n",
    "<br/> We can also write this as,\n",
    "<br/> $\\lambda f(x_1) \\geq f(x_0 + \\lambda (x_1-x_0)) + (\\lambda - 1) f(x_0)$\n",
    "<br/> Dividing by $\\lambda$ on both sides we get,\n",
    "<br/> $f(x_1) \\geq \\frac{f(x_0 + \\lambda (x_1-x_0)) + (\\lambda - 1) f(x_0)}{\\lambda}$\n",
    "<br/> $f(x_1) \\geq \\frac{f(x_0 + \\lambda (x_1-x_0)) -  f(x_0)}{\\lambda} + f(x_0)$\n",
    "<br/> $f(x_1) - f(x_0) \\geq \\frac{f(x_0 + \\lambda (x_1-x_0)) -  f(x_0)}{\\lambda}$\n",
    "<br/> Taking $\\lim_{\\lambda \\to 0}$ on both sides we get,\n",
    "<br/> $\\lim_{\\lambda \\to 0} f(x_1) - f(x_0) \\geq \\lim_{\\lambda \\to 0} \\frac{f(x_0 + \\lambda (x_1-x_0)) -  f(x_0)}{\\lambda}$\n",
    "<br/> $f(x_1) - f(x_0) \\geq \\lim_{\\lambda \\to 0} \\frac{f(x_0 + \\lambda (x_1-x_0)) -  f(x_0)}{\\lambda}$\n",
    "<br/> On the right hand side, we see that this is the definition of directional derivatives https://www.wikiwand.com/en/Directional_derivative\n",
    "<br/> $f(x_1) - f(x_0) \\geq \\nabla_{x_1-x_0} f(x_0) \\rightarrow (2)$\n",
    "<br/> But since $f(x)$ is convex, it is differentiable and thus, by the definition of directional derivatives\n",
    "<br/> $\\nabla_{x_1-x_0} f(x_0) = \\nabla f(x_0).(x_1-x_0) \\rightarrow (3)$\n",
    "<br/> But $\\nabla f(x_0) = g_{x_0}^{T} \\rightarrow (4)$ or in other words gradient of $f(x)$ at $x_0$\n",
    "<br/> Thus, from $(2),\\;(3),\\;(4)$ we get,\n",
    "<br/>$f(x_1)-f(x_0)\\geq g_{x_0}^{T}.(x_1 - x_0)$\n",
    "<br/> And thus, if $f(x)$ is convex for $x_1, x_0 \\in \\mathscr{X}$\n",
    "<br/> $f(x_1)\\geq f(x_0) + g_{x_0}^{T}.(x_1 - x_0)$"
   ],
   "metadata": {
    "collapsed": false,
    "pycharm": {
     "name": "#%% md\n"
    }
   }
  },
  {
   "cell_type": "markdown",
   "source": [
    "<h2> Problem 5\n",
    "<h3> Part a"
   ],
   "metadata": {
    "collapsed": false,
    "pycharm": {
     "name": "#%% md\n"
    }
   }
  },
  {
   "cell_type": "markdown",
   "source": [
    "Define the problem as an optimization problem.\n",
    "\n",
    "<br/> We have been given that the actual reflection intensity on the $k^{th}$ mirror is $a^{T}_{k}p$ where $a_k$ is the distance\n",
    "of all lamps to the mirrors and $p$ is the power output of the lamps.\n",
    "<br/> Thus, actual intensity $I = a^{T}_{k}p$.\n",
    "<br/> Our aim is to keep the actual intensity close to the target intensity $I_t$ or in other words\n",
    "we have to show that $I - I_t \\rightarrow 0$ or minimize objective.\n",
    "<br/> Since we are tuning power levels of each lamp, there could be a possibility where $I<I_t$ in which case the\n",
    "difference is negative. This could open up a lot of possibilities and would not necessarily generate a solution in optimization.\n",
    "<br/> We know that $min f(x)$ is same as $min (f(x))^{2}$.\n",
    "<br/> Thus we could minimize $(I - I_t)^{2}$ which means that we want $(I - I_t)^{2}$ close to $0$.\n",
    "<br/> Mathematically, we could write this as,\n",
    "<br/>  $min\\;\\sum_{k}(a^{T}_{k}p - I_t)^{2}$"
   ],
   "metadata": {
    "collapsed": false,
    "pycharm": {
     "name": "#%% md\n"
    }
   }
  },
  {
   "cell_type": "markdown",
   "source": [
    "<h2> Part b"
   ],
   "metadata": {
    "collapsed": false,
    "pycharm": {
     "name": "#%% md\n"
    }
   }
  },
  {
   "cell_type": "markdown",
   "source": [
    "Prove that this problem is convex\n",
    "\n",
    "To prove that this problem is convex we need to show the hessian as,\n",
    "<br/> $H$ is positive semi definite.\n",
    "<br/> From the above optimization problem let's take an individual component as $(a^{T}_{k}p - I_t)^{2}$.\n",
    "<br/> The gradient of this w.r.t $p$ is given as: $2(a^{T}_{k}p - I_t).a_{k}$\n",
    "<br/> Thus, the gradient $g = 2a^{T}_{k}p a_{k} - 2I_{t}a_{k}$\n",
    "<br/> This could also be written as $g = 2 a_{k}a^{T}_{k}p - 2I_{t}a_{k}$\n",
    "<br/> The hessian or $g'$ is given as,\n",
    "<br/> $H = 2a_{k}a_{k}^T$\n",
    "<br/> This is the hessian of an individual component. The hessian of all components in the problem is given as,\n",
    "<br/> $H = \\sum_{k} 2a_{k}a_{k}^T$\n",
    "<br/> For convexity, $H$ needs to be semi definite or $x^{T}Hx\\geq 0$ for all non-zero values of $x$.\n",
    "<br/> $x^{T}Hx = \\sum_{k} 2 x^{T}a_{k}a_{k}^T x$\n",
    "<br/> Let $x^{T}a_{k} = c = a_{k}^T x$\n",
    "<br/> $x^{T}Hx = \\sum_{k} 2 c^{2}$\n",
    "<br/> Thus, $x^{T}Hx >0$ for all values of $x$ and $x^{T}Hx =0$ when $x$ is in the null-space of $a_{k}$.\n",
    "<br/> Thus, $x^{T}Hx$ is a positive semi-definite matrix and hence the problem is convex."
   ],
   "metadata": {
    "collapsed": false,
    "pycharm": {
     "name": "#%% md\n"
    }
   }
  },
  {
   "cell_type": "markdown",
   "source": [],
   "metadata": {
    "collapsed": false,
    "pycharm": {
     "name": "#%% md\n"
    }
   }
  }
 ],
 "metadata": {
  "kernelspec": {
   "display_name": "Python 3",
   "language": "python",
   "name": "python3"
  },
  "language_info": {
   "codemirror_mode": {
    "name": "ipython",
    "version": 2
   },
   "file_extension": ".py",
   "mimetype": "text/x-python",
   "name": "python",
   "nbconvert_exporter": "python",
   "pygments_lexer": "ipython2",
   "version": "2.7.6"
  }
 },
 "nbformat": 4,
 "nbformat_minor": 0
}