{
 "cells": [
  {
   "cell_type": "markdown",
   "source": [
    "# <h1>Homework 3"
   ],
   "metadata": {
    "collapsed": false
   }
  },
  {
   "cell_type": "markdown",
   "source": [
    "# <h1> Problem 1"
   ],
   "metadata": {
    "collapsed": false
   }
  },
  {
   "cell_type": "markdown",
   "source": [
    "For a binary mixture with two adjustable parameters $A_{12}$ and $A_{21}$ equilibrium relations are <br/>\n",
    "$p = x_1\\;exp(A_{12}(\\frac{A_{21}x_2}{A_{12}x_1 + A_{21}x_2})^2)p_{water}^{sat} + x_2\\;exp(A_{21}(\\frac{A_{12}x_1}{A_{12}x_1 + A_{21}x_2})^2)p_{1,4\\;dioxane}^{sat}$\n",
    "<br/> The saturation pressure is given as,\n",
    "<br/> $log_{10}(p^{sat}) = a_1 - \\frac{a_2}{T + a_3}$\n",
    "<br/> We have also been given that,\n",
    "<br/> $x_1 + x_2 = 1$\n",
    "<br/> A table of measures for $x_1$ and corresponding $p$ is also given\n",
    "<br/> We need to solve this problem like a least squares problem"
   ],
   "metadata": {
    "collapsed": false,
    "pycharm": {
     "name": "#%% md\n"
    }
   }
  },
  {
   "cell_type": "markdown",
   "source": [
    "# <h2> Part 1"
   ],
   "metadata": {
    "collapsed": false,
    "pycharm": {
     "name": "#%% md\n"
    }
   }
  },
  {
   "cell_type": "markdown",
   "source": [
    "Least Squares formulation\n",
    "<br/> $min_{A_{12},A_{21}} \\sum (p - p(A_{12},A_{21}))^{2}$\n",
    "<br/> This means that we need to minimize the sum of squared difference all actual $p$ and calculated $p$ by modifying $As$."
   ],
   "metadata": {
    "collapsed": false,
    "pycharm": {
     "name": "#%% md\n"
    }
   }
  },
  {
   "cell_type": "markdown",
   "source": [
    "#<h2> Part 2"
   ],
   "metadata": {
    "collapsed": false,
    "pycharm": {
     "name": "#%% md\n"
    }
   }
  },
  {
   "cell_type": "markdown",
   "source": [
    "In order to get a solution as close as possible to the optimum solution, we cannot linearize the given model.\n",
    "<br/> To solve the problem with its non-linearity intact we solve the problem using gradient descent."
   ],
   "metadata": {
    "collapsed": false,
    "pycharm": {
     "name": "#%% md\n"
    }
   }
  },
  {
   "cell_type": "code",
   "execution_count": null,
   "outputs": [],
   "source": [],
   "metadata": {
    "collapsed": false,
    "pycharm": {
     "name": "#%%\n"
    }
   }
  }
 ],
 "metadata": {
  "kernelspec": {
   "display_name": "Python 3",
   "language": "python",
   "name": "python3"
  },
  "language_info": {
   "codemirror_mode": {
    "name": "ipython",
    "version": 2
   },
   "file_extension": ".py",
   "mimetype": "text/x-python",
   "name": "python",
   "nbconvert_exporter": "python",
   "pygments_lexer": "ipython2",
   "version": "2.7.6"
  }
 },
 "nbformat": 4,
 "nbformat_minor": 0
}