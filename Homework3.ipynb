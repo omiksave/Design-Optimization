{
 "cells": [
  {
   "cell_type": "markdown",
   "source": [
    "# <h1>Homework 3"
   ],
   "metadata": {
    "collapsed": false
   }
  },
  {
   "cell_type": "markdown",
   "source": [
    "# <h1> Problem 1"
   ],
   "metadata": {
    "collapsed": false
   }
  },
  {
   "cell_type": "markdown",
   "source": [
    "For a binary mixture with two adjustable parameters $A_{12}$ and $A_{21}$ equilibrium relations are <br/>\n",
    "$p = x_1\\;exp(A_{12}(\\frac{A_{21}x_2}{A_{12}x_1 + A_{21}x_2})^2)p_{water}^{sat} + x_2\\;exp(A_{21}(\\frac{A_{12}x_1}{A_{12}x_1 + A_{21}x_2})^2)p_{1,4\\;dioxane}^{sat}$\n",
    "<br/> The saturation pressure is given as,\n",
    "<br/> $log_{10}(p^{sat}) = a_1 - \\frac{a_2}{T + a_3}$\n",
    "<br/> We have also been given that,\n",
    "<br/> $x_1 + x_2 = 1$\n",
    "<br/> A table of measures for $x_1$ and corresponding $p$ is also given\n",
    "<br/> We need to solve this problem like a least squares problem"
   ],
   "metadata": {
    "collapsed": false,
    "pycharm": {
     "name": "#%% md\n"
    }
   }
  },
  {
   "cell_type": "markdown",
   "source": [
    "# <h2> Part 1"
   ],
   "metadata": {
    "collapsed": false,
    "pycharm": {
     "name": "#%% md\n"
    }
   }
  },
  {
   "cell_type": "markdown",
   "source": [
    "Least Squares formulation\n",
    "<br/> $min_{A_{12},A_{21}} \\sum (p - p(A_{12},A_{21}))^{2}$\n",
    "<br/> This means that we need to minimize the sum of squared difference all actual $p$ and calculated $p$ by modifying $As$."
   ],
   "metadata": {
    "collapsed": false,
    "pycharm": {
     "name": "#%% md\n"
    }
   }
  },
  {
   "cell_type": "markdown",
   "source": [
    "#<h2> Part 2"
   ],
   "metadata": {
    "collapsed": false,
    "pycharm": {
     "name": "#%% md\n"
    }
   }
  },
  {
   "cell_type": "markdown",
   "source": [
    "In order to get a solution as close as possible to the optimum solution, we cannot linearize the given model.\n",
    "<br/> To solve the problem with its non-linearity intact we solve the problem using gradient descent."
   ],
   "metadata": {
    "collapsed": false,
    "pycharm": {
     "name": "#%% md\n"
    }
   }
  },
  {
   "cell_type": "code",
   "execution_count": 64,
   "outputs": [],
   "source": [
    "# Calculate p_sat from the formula given\n",
    "def p_sat(a1,a2,a3):\n",
    "    return 10**(a1 - ((a2)/(a3+20)))"
   ],
   "metadata": {
    "collapsed": false,
    "pycharm": {
     "name": "#%%\n"
    }
   }
  },
  {
   "cell_type": "code",
   "execution_count": 65,
   "outputs": [],
   "source": [
    "p_water = p_sat(8.07131,1730.63,233.426)\n",
    "p_diox = p_sat(7.43155,1554.679,240.337)"
   ],
   "metadata": {
    "collapsed": false,
    "pycharm": {
     "name": "#%%\n"
    }
   }
  },
  {
   "cell_type": "code",
   "execution_count": 51,
   "outputs": [],
   "source": [
    "import torch as t\n",
    "from torch.autograd import Variable\n",
    "import numpy as np"
   ],
   "metadata": {
    "collapsed": false,
    "pycharm": {
     "name": "#%% Importing Libraries\n"
    }
   }
  },
  {
   "cell_type": "code",
   "execution_count": 52,
   "outputs": [],
   "source": [
    "# Setup Cost Function, calling it sat\n",
    "def sat(x1,x2,p_water,p_diox,x):\n",
    "    return x1*t.exp(x[0]*((x[1]*x2)/(x[0]*x1 + x[1]*x2))**2)*p_water + x2*t.exp(x[1]*((x[0]*x1)/(x[0]*x1 + x[1]*x2))**2)*p_diox"
   ],
   "metadata": {
    "collapsed": false,
    "pycharm": {
     "name": "#%%\n"
    }
   }
  },
  {
   "cell_type": "code",
   "execution_count": 53,
   "outputs": [],
   "source": [
    "# Generate x1\n",
    "x1 = t.tensor(np.array([0.0,0.1,0.2,0.3,0.4,0.5,0.6,0.7,0.8,0.9,1.0]))\n",
    "# x2 is given as 1-x1\n",
    "x2 = 1-x1"
   ],
   "metadata": {
    "collapsed": false,
    "pycharm": {
     "name": "#%%\n"
    }
   }
  },
  {
   "cell_type": "code",
   "execution_count": 55,
   "outputs": [],
   "source": [
    "p = t.tensor([28.1,34.4,36.7,36.9,36.8,36.7,36.5,35.4,32.9,27.7,17.5])"
   ],
   "metadata": {
    "collapsed": false,
    "pycharm": {
     "name": "#%%\n"
    }
   }
  },
  {
   "cell_type": "code",
   "execution_count": 56,
   "outputs": [],
   "source": [
    "def square_loss(act,pred):\n",
    "    loss = act-pred # Calculate difference of Predicted and Actual p\n",
    "    loss = loss**2 # Square of the difference\n",
    "    return t.sum(loss) # Return Sum of Squares for LSE"
   ],
   "metadata": {
    "collapsed": false,
    "pycharm": {
     "name": "#%%\n"
    }
   }
  },
  {
   "cell_type": "code",
   "execution_count": 194,
   "outputs": [],
   "source": [
    "lossx = np.array([])\n",
    "x_all = np.array([])\n",
    "a = 0.001 # Setting Learning rate to 0.001\n",
    "x = Variable(t.tensor([1.0,1.0]),requires_grad = True) # Encoding variables A12 and A21\n",
    "for i in range(1000): # Running for 1000 epochs\n",
    "    p_pred = sat(x1,x2,p_water,p_diox,x) # Calculating Predicted P from formula\n",
    "    loss = square_loss(p,p_pred) # Calculating loss between actual and predicted\n",
    "    loss.backward() # Compute Gradient\n",
    "    with t.no_grad(): # Avoid Gradient Computation\n",
    "        x -=a*x.grad # Update variables with step\n",
    "        x.grad.zero_() # Clear Gradient to avoid saturation\n",
    "        #print(loss.data.numpy())\n",
    "        lossx = np.append(lossx,loss.data.numpy()) #Store loss to plot convergence\n",
    "        x_all = np.append(x_all,x.data.numpy()) #Store all values of A12 and A21"
   ],
   "metadata": {
    "collapsed": false,
    "pycharm": {
     "name": "#%%\n"
    }
   }
  },
  {
   "cell_type": "code",
   "execution_count": 180,
   "outputs": [
    {
     "name": "stdout",
     "output_type": "stream",
     "text": [
      "The value for A12 = 1.9584194and A21 = 1.6891854\n",
      "\n",
      "The converged loss of the solution = 0.6701930714829456\n"
     ]
    }
   ],
   "source": [
    "print('The value for A12 = '+str(x.data.numpy()[0])+'and A21 = '+str(x.data.numpy()[1])+'\\n')\n",
    "print('The converged loss of the solution = '+str(loss.data.numpy()))"
   ],
   "metadata": {
    "collapsed": false,
    "pycharm": {
     "name": "#%%\n"
    }
   }
  },
  {
   "cell_type": "code",
   "execution_count": 190,
   "outputs": [
    {
     "data": {
      "text/plain": "<Figure size 432x288 with 1 Axes>",
      "image/png": "[encoded data removed]"
     },
     "metadata": {
      "needs_background": "light"
     },
     "output_type": "display_data"
    }
   ],
   "source": [
    "# Plotting Performance\n",
    "import matplotlib.pyplot as plt\n",
    "plt.figure(1);plt.clf()\n",
    "plt.plot(lossx)\n",
    "plt.xlabel('Epochs')\n",
    "plt.ylabel('$||p-p^{*}||$')\n",
    "plt.title('Convergence Plot: Loss')\n",
    "plt.show()"
   ],
   "metadata": {
    "collapsed": false,
    "pycharm": {
     "name": "#%%\n"
    }
   }
  },
  {
   "cell_type": "markdown",
   "source": [
    "# <h3> Part 3"
   ],
   "metadata": {
    "collapsed": false,
    "pycharm": {
     "name": "#%% md\n"
    }
   }
  },
  {
   "cell_type": "markdown",
   "source": [
    "In this part we compare the optimized model prediction with the actual data."
   ],
   "metadata": {
    "collapsed": false,
    "pycharm": {
     "name": "#%% md\n"
    }
   }
  },
  {
   "cell_type": "code",
   "execution_count": 204,
   "outputs": [
    {
     "data": {
      "text/plain": "<Figure size 432x288 with 1 Axes>",
      "image/png": "[encoded data removed]"
     },
     "metadata": {
      "needs_background": "light"
     },
     "output_type": "display_data"
    }
   ],
   "source": [
    "plt.figure(1);plt.clf()\n",
    "plt.plot(p,'bo--')\n",
    "plt.plot(p_pred.detach().numpy(),'ro--')\n",
    "plt.xlabel('For x1 0---->1')\n",
    "plt.ylabel('$p$')\n",
    "plt.legend(['P_Actual','P_Predicted'])\n",
    "plt.title('Convergence Plot: Loss')\n",
    "plt.show()"
   ],
   "metadata": {
    "collapsed": false,
    "pycharm": {
     "name": "#%%\n"
    }
   }
  },
  {
   "cell_type": "markdown",
   "source": [
    "From the above diagram it is clear that the gradient descent has optimized our model. The predicted values for p\n",
    "fit very well with the actual data provided. Thus, we can be assured that the calculated $A_{12}$ and\n",
    "$A_{21}$ are accurate."
   ],
   "metadata": {
    "collapsed": false,
    "pycharm": {
     "name": "#%% md\n"
    }
   }
  },
  {
   "cell_type": "markdown",
   "source": [
    "# <h2> Problem 2"
   ],
   "metadata": {
    "collapsed": false,
    "pycharm": {
     "name": "#%% md\n"
    }
   }
  },
  {
   "cell_type": "markdown",
   "source": [
    "In this problem we are required to minimize,\n",
    "<br/> $min_{x_{1},x_{2}} (4 - 2.1x_{1}^2 + \\frac{x_{1}^4}{3})x_{1}^2 + x_{1}x_{2} + (-4 + 4x_{2}^2)x_{2}^2$\n",
    "<br/> where, $x_{1} \\in [-3,3]$ and $x_{2} \\in [-2,2]$"
   ],
   "metadata": {
    "collapsed": false,
    "pycharm": {
     "name": "#%% md\n"
    }
   }
  },
  {
   "cell_type": "code",
   "source": [
    "# Importing Libraries\n",
    "from skopt import gp_minimize # We use Bayesian Optimization from this library\n",
    "from skopt.space import Real # This allows us to encode variables to optimize along with bounds"
   ],
   "metadata": {
    "collapsed": false,
    "pycharm": {
     "name": "#%%\n"
    }
   },
   "execution_count": 134,
   "outputs": []
  },
  {
   "cell_type": "code",
   "execution_count": 94,
   "outputs": [],
   "source": [
    "# Defining function to minimize\n",
    "def cost_fun(x):\n",
    "    return ((4 - 2.1*(x[0]**2) + (x[0]**4)/3)*(x[0]**2)) + x[0]*x[1] + (-4 + 4*(x[1]**2))*(x[1]**2)"
   ],
   "metadata": {
    "collapsed": false,
    "pycharm": {
     "name": "#%%\n"
    }
   }
  },
  {
   "cell_type": "code",
   "execution_count": 212,
   "outputs": [],
   "source": [
    "# Defining the two variables x1 and x2 as Real Numbers along with their given bounds\n",
    "space = [Real(-3,3),Real(-2,2)]\n",
    "# Running 50 iterations of Bayesian Optimization to evaluate the best parameter combination to minimize cost function\n",
    "res = gp_minimize(cost_fun,space,x0=[0,1],acq_func=\"EI\",n_calls=50,n_random_starts=5,random_state=123,noise=0.1**2)"
   ],
   "metadata": {
    "collapsed": false,
    "pycharm": {
     "name": "#%%\n"
    }
   }
  },
  {
   "cell_type": "code",
   "execution_count": 213,
   "outputs": [
    {
     "name": "stdout",
     "output_type": "stream",
     "text": [
      "-1.0219560718875473\n"
     ]
    }
   ],
   "source": [
    "print(res.fun)"
   ],
   "metadata": {
    "collapsed": false,
    "pycharm": {
     "name": "#%%\n"
    }
   }
  }
 ],
 "metadata": {
  "kernelspec": {
   "display_name": "Python 3",
   "language": "python",
   "name": "python3"
  },
  "language_info": {
   "codemirror_mode": {
    "name": "ipython",
    "version": 2
   },
   "file_extension": ".py",
   "mimetype": "text/x-python",
   "name": "python",
   "nbconvert_exporter": "python",
   "pygments_lexer": "ipython2",
   "version": "2.7.6"
  }
 },
 "nbformat": 4,
 "nbformat_minor": 0
}