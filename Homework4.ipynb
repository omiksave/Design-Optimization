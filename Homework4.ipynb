{
 "cells": [
  {
   "cell_type": "markdown",
   "metadata": {
    "collapsed": true,
    "pycharm": {
     "name": "#%% md\n"
    }
   },
   "source": [
    "<h1> Homework 4"
   ]
  },
  {
   "cell_type": "markdown",
   "source": [
    "<h2> Problem 1"
   ],
   "metadata": {
    "collapsed": false,
    "pycharm": {
     "name": "#%% md\n"
    }
   }
  },
  {
   "cell_type": "markdown",
   "source": [
    "In this problem, we have to find the solution graphically and verify the optimal solution by KKT conditions.\n",
    "We have been given the following <br/>\n",
    "Minimize $f(x) = (x_1 + 1)^2 + (x_2 - 2)^2$<br/>\n",
    "Subject to $g_1 = x_1 - 2\\leq0$, $g_3 = -x_1\\leq0$<br/>\n",
    "$g_2 = x_2 -1 \\leq 0$, $g_4 = -x_2 \\leq0$\n",
    "<br/> From the conditions we get the following points,<br/>\n",
    "$(2,1)$,$(0,0)$,$(2,0)$ and $(0,1)$\n",
    "<br/> Calculating the value of $f$ at each location gives us,\n",
    "<br/> $f_{2,1} = 10$\n",
    "<br/> $f_{0,0} = 5$\n",
    "<br/> $f_{2,0} = 13$\n",
    "<br/> $f_{0,1} = 2$,\n",
    "<br/> Hence, it can be seen that $(0,1)$ is the minimum for $f$.\n",
    "<br/>\n",
    "Computing gradient for $f$\n",
    "<br/> $\\nabla f = \\begin{bmatrix}\n",
    "\\frac{\\delta f}{\\delta x_1}\\\\\n",
    "\\frac{\\delta f}{\\delta x_2}\n",
    "\\end{bmatrix}$ =\n",
    "$\\begin{bmatrix}\n",
    "2(x_1 + 1)\\\\\n",
    "2(x_2 - 2)\n",
    "\\end{bmatrix}$\n",
    "<br/> Therefore,\n",
    "<br/>$\\nabla f_{2,1} = \\begin{bmatrix}\n",
    "6\\\\\n",
    "-2\n",
    "\\end{bmatrix}$,\n",
    "$\\nabla f_{0,0} = \\begin{bmatrix}\n",
    "2\\\\\n",
    "-4\n",
    "\\end{bmatrix}$,\n",
    "$\\nabla f_{2,0} = \\begin{bmatrix}\n",
    "6\\\\\n",
    "-4\n",
    "\\end{bmatrix}$\n",
    "$\\nabla f_{0,1} = \\begin{bmatrix}\n",
    "2\\\\\n",
    "-2\n",
    "\\end{bmatrix}$\n",
    "\n",
    "<br/>Computing the gradient of $g$, we get,\n",
    "<br/>$\\nabla g_1 = \\begin{bmatrix}\n",
    "1\\\\\n",
    "0\n",
    "\\end{bmatrix}$\n",
    "$\\nabla g_2 = \\begin{bmatrix}\n",
    "0\\\\\n",
    "1\n",
    "\\end{bmatrix}$\n",
    "$\\nabla g_3 = \\begin{bmatrix}\n",
    "-1\\\\\n",
    "0\n",
    "\\end{bmatrix}$\n",
    "$\\nabla g_4 = \\begin{bmatrix}\n",
    "0\\\\\n",
    "-1\n",
    "\\end{bmatrix}$"
   ],
   "metadata": {
    "collapsed": false,
    "pycharm": {
     "name": "#%% md\n"
    }
   }
  },
  {
   "cell_type": "markdown",
   "source": [
    "<h3> Verifying KKT conditions at (0,1)"
   ],
   "metadata": {
    "collapsed": false,
    "pycharm": {
     "name": "#%% md\n"
    }
   }
  },
  {
   "cell_type": "markdown",
   "source": [
    "We know that <br/>\n",
    "$\\nabla f + \\mu^T \\nabla g = 0^T$\n",
    "<br/> Since at (0,1) only $g_2$ and $g_3$ are active, the above expression becomes,\n",
    "<br/> $\\begin{bmatrix}\n",
    "2(x_1 + 1)\\\\\n",
    "2(x_2 - 2)\n",
    "\\end{bmatrix} + \\mu_{2}\n",
    "\\begin{bmatrix}\n",
    "0\\\\\n",
    "1\n",
    "\\end{bmatrix}+ \\mu_{3}\n",
    "\\begin{bmatrix}\n",
    "-1\\\\\n",
    "0\n",
    "\\end{bmatrix} =\n",
    "\\begin{bmatrix}\n",
    "0\\\\\n",
    "0\n",
    "\\end{bmatrix}$\n",
    "<br/> Thus, we get\n",
    "<br/> $2x_1 + 2 - \\mu_3 = 0$\n",
    "<br/> $2x_2 - 4 +\\mu_2 = 0$\n",
    "<br/> Substituting (0,1), we get,\n",
    "<br/> Thus, $\\mu_2 = 2$ and $\\mu_3 = 2$\n",
    "<br/> Thus, $\\mu_2,\\mu_3>0$\n",
    "<br/> Hence the graphical solution is verified by KKT."
   ],
   "metadata": {
    "collapsed": false,
    "pycharm": {
     "name": "#%% md\n"
    }
   }
  },
  {
   "cell_type": "markdown",
   "source": [
    "<h3> Checking for optimality"
   ],
   "metadata": {
    "collapsed": false,
    "pycharm": {
     "name": "#%% md\n"
    }
   }
  },
  {
   "cell_type": "markdown",
   "source": [
    "Hessian of the problem becomes,\n",
    "$H = \\begin{bmatrix}\n",
    "2&0\\\\\n",
    "0&2\n",
    "\\end{bmatrix}$\n",
    "<br/> Since, the Hessian is positive definite the solution (0,1) is optimal."
   ],
   "metadata": {
    "collapsed": false,
    "pycharm": {
     "name": "#%% md\n"
    }
   }
  },
  {
   "cell_type": "markdown",
   "source": [
    "<h2> Problem 2"
   ],
   "metadata": {
    "collapsed": false,
    "pycharm": {
     "name": "#%% md\n"
    }
   }
  },
  {
   "cell_type": "markdown",
   "source": [
    "We have been given,\n",
    "<br/> Minimize $f = -x_1$\n",
    "<br/> $g_1 = x_2 - (1-x_1)^3 \\leq 0$\n",
    "<br/> $g_2 = x_2 \\geq 0$\n",
    "<br/> We can thus rewrite $g_2 = -x_2 \\leq 0$\n",
    "<br/> Thus calculating,\n",
    "<br/> $\\nabla f = \\begin{bmatrix}\n",
    "-1\\\\\n",
    "0\n",
    "\\end{bmatrix}$\n",
    "<br/> $\\frac{\\delta g_1}{\\delta x} = \\begin{bmatrix}\n",
    "3(1-x_1)^2\\\\\n",
    "1\n",
    "\\end{bmatrix}$\n",
    "<br/> $\\frac{\\delta g_2}{\\delta x} = \\begin{bmatrix}\n",
    "0\\\\\n",
    "-1\n",
    "\\end{bmatrix}$\n",
    "<br/> Substituting $x_2 = 0$ in $g_1$, we get $x_1 = 1$\n",
    "<br/> Thus, the local solution of the problem is (1,0) and $f = -1$"
   ],
   "metadata": {
    "collapsed": false,
    "pycharm": {
     "name": "#%% md\n"
    }
   }
  },
  {
   "cell_type": "markdown",
   "source": [
    "<h3> Verifying the solution by KKT"
   ],
   "metadata": {
    "collapsed": false,
    "pycharm": {
     "name": "#%% md\n"
    }
   }
  },
  {
   "cell_type": "markdown",
   "source": [
    "$\\nabla f + \\mu^T \\nabla g = 0$\n",
    "<br/> Since, both $g_1$ and $g_2$ are active\n",
    "<br/> We get, $\\nabla f + \\mu_1 \\nabla g_1 + \\mu_2 \\nabla g_2 = 0$\n",
    "<br/> $\\begin{bmatrix}\n",
    "-1\\\\\n",
    "0\n",
    "\\end{bmatrix} +\n",
    "\\mu_1\\begin{bmatrix}\n",
    "3(1-x_1)^2\\\\\n",
    "1\n",
    "\\end{bmatrix} +\n",
    "\\mu_2 \\begin{bmatrix}\n",
    "0\\\\\n",
    "-1\n",
    "\\end{bmatrix} =\n",
    "\\begin{bmatrix}\n",
    "0\\\\\n",
    "0\n",
    "\\end{bmatrix}$\n",
    "<br/> Substituting (0,1), we get,\n",
    "$\\begin{bmatrix}\n",
    "-1\\\\\n",
    "0\n",
    "\\end{bmatrix} +\n",
    "\\mu_1\\begin{bmatrix}\n",
    "0\\\\\n",
    "1\n",
    "\\end{bmatrix} +\n",
    "\\mu_2 \\begin{bmatrix}\n",
    "0\\\\\n",
    "-1\n",
    "\\end{bmatrix} =\n",
    "\\begin{bmatrix}\n",
    "0\\\\\n",
    "0\n",
    "\\end{bmatrix}$\n",
    "<br/> We thus get, -1 = 0 which is not possible and\n",
    "<br/> $\\mu_1 = \\mu_2$\n",
    "<br/> Since, $\\mu_1,\\mu_2 > 0 $ is not satisfied, KKT conditions cannot be verified."
   ],
   "metadata": {
    "collapsed": false,
    "pycharm": {
     "name": "#%% md\n"
    }
   }
  },
  {
   "cell_type": "markdown",
   "source": [
    "<h2> Problem 3"
   ],
   "metadata": {
    "collapsed": false,
    "pycharm": {
     "name": "#%% md\n"
    }
   }
  },
  {
   "cell_type": "markdown",
   "source": [],
   "metadata": {
    "collapsed": false,
    "pycharm": {
     "name": "#%% md\n"
    }
   }
  }
 ],
 "metadata": {
  "kernelspec": {
   "display_name": "Python 3",
   "language": "python",
   "name": "python3"
  },
  "language_info": {
   "codemirror_mode": {
    "name": "ipython",
    "version": 2
   },
   "file_extension": ".py",
   "mimetype": "text/x-python",
   "name": "python",
   "nbconvert_exporter": "python",
   "pygments_lexer": "ipython2",
   "version": "2.7.6"
  }
 },
 "nbformat": 4,
 "nbformat_minor": 0
}