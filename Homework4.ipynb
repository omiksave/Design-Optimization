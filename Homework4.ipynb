{
 "cells": [
  {
   "cell_type": "markdown",
   "metadata": {
    "collapsed": true,
    "pycharm": {
     "name": "#%% md\n"
    }
   },
   "source": [
    "<h1> Homework 4"
   ]
  },
  {
   "cell_type": "markdown",
   "source": [
    "<h2> Problem 1"
   ],
   "metadata": {
    "collapsed": false,
    "pycharm": {
     "name": "#%% md\n"
    }
   }
  },
  {
   "cell_type": "markdown",
   "source": [
    "In this problem, we have to find the solution graphically and verify the optimal solution by KKT conditions.\n",
    "We have been given the following <br/>\n",
    "Minimize $f(x) = (x_1 + 1)^2 + (x_2 - 2)^2$<br/>\n",
    "Subject to $g_1 = x_1 - 2\\leq0$, $g_3 = -x_1\\leq0$<br/>\n",
    "$g_2 = x_2 -1 \\leq 0$, $g_4 = -x_2 \\leq0$\n",
    "<br/> From the conditions we get the following points,<br/>\n",
    "$(2,1)$,$(0,0)$,$(2,0)$ and $(0,1)$\n",
    "<br/> Calculating the value of $f$ at each location gives us,\n",
    "<br/> $f_{2,1} = 10$\n",
    "<br/> $f_{0,0} = 5$\n",
    "<br/> $f_{2,0} = 13$\n",
    "<br/> $f_{0,1} = 2$,\n",
    "<br/> Hence, it can be seen that $(0,1)$ is the minimum for $f$.\n",
    "<br/>\n",
    "Computing gradient for $f$\n",
    "<br/> $\\nabla f = \\begin{bmatrix}\n",
    "\\frac{\\delta f}{\\delta x_1}\\\\\n",
    "\\frac{\\delta f}{\\delta x_2}\n",
    "\\end{bmatrix}$ =\n",
    "$\\begin{bmatrix}\n",
    "2(x_1 + 1)\\\\\n",
    "2(x_2 - 2)\n",
    "\\end{bmatrix}$\n",
    "<br/> Therefore,\n",
    "<br/>$\\nabla f_{2,1} = \\begin{bmatrix}\n",
    "6\\\\\n",
    "-2\n",
    "\\end{bmatrix}$,\n",
    "$\\nabla f_{0,0} = \\begin{bmatrix}\n",
    "2\\\\\n",
    "-4\n",
    "\\end{bmatrix}$,\n",
    "$\\nabla f_{2,0} = \\begin{bmatrix}\n",
    "6\\\\\n",
    "-4\n",
    "\\end{bmatrix}$\n",
    "$\\nabla f_{0,1} = \\begin{bmatrix}\n",
    "2\\\\\n",
    "-2\n",
    "\\end{bmatrix}$\n",
    "\n",
    "<br/>Computing the gradient of $g$, we get,\n",
    "<br/>$\\nabla g_1 = \\begin{bmatrix}\n",
    "1\\\\\n",
    "0\n",
    "\\end{bmatrix}$\n",
    "$\\nabla g_2 = \\begin{bmatrix}\n",
    "0\\\\\n",
    "1\n",
    "\\end{bmatrix}$\n",
    "$\\nabla g_3 = \\begin{bmatrix}\n",
    "-1\\\\\n",
    "0\n",
    "\\end{bmatrix}$\n",
    "$\\nabla g_4 = \\begin{bmatrix}\n",
    "0\\\\\n",
    "-1\n",
    "\\end{bmatrix}$\n",
    "![Graphical 1!](/assets/images/Graph1.PNG \"G1\")\n",
    "![Graphical 1a!](/assets/images/Graph1a.jpeg \"G1a\")\n",
    "![Graphical 1b!](/assets/images/Graph1b.jpeg \"G1b\")"
   ],
   "metadata": {
    "collapsed": false,
    "pycharm": {
     "name": "#%% md\n"
    }
   }
  },
  {
   "cell_type": "markdown",
   "source": [
    "<h3> Verifying KKT conditions at (0,1)"
   ],
   "metadata": {
    "collapsed": false,
    "pycharm": {
     "name": "#%% md\n"
    }
   }
  },
  {
   "cell_type": "markdown",
   "source": [
    "We know that <br/>\n",
    "$\\nabla f + \\mu^T \\nabla g = 0^T$\n",
    "<br/> Since at (0,1) only $g_2$ and $g_3$ are active, the above expression becomes,\n",
    "<br/> $\\begin{bmatrix}\n",
    "2(x_1 + 1)\\\\\n",
    "2(x_2 - 2)\n",
    "\\end{bmatrix} + \\mu_{2}\n",
    "\\begin{bmatrix}\n",
    "0\\\\\n",
    "1\n",
    "\\end{bmatrix}+ \\mu_{3}\n",
    "\\begin{bmatrix}\n",
    "-1\\\\\n",
    "0\n",
    "\\end{bmatrix} =\n",
    "\\begin{bmatrix}\n",
    "0\\\\\n",
    "0\n",
    "\\end{bmatrix}$\n",
    "<br/> Thus, we get\n",
    "<br/> $2x_1 + 2 - \\mu_3 = 0$\n",
    "<br/> $2x_2 - 4 +\\mu_2 = 0$\n",
    "<br/> Substituting (0,1), we get,\n",
    "<br/> Thus, $\\mu_2 = 2$ and $\\mu_3 = 2$\n",
    "<br/> Thus, $\\mu_2,\\mu_3>0$\n",
    "<br/> Hence the graphical solution is verified by KKT."
   ],
   "metadata": {
    "collapsed": false,
    "pycharm": {
     "name": "#%% md\n"
    }
   }
  },
  {
   "cell_type": "markdown",
   "source": [
    "<h3> Checking for optimality"
   ],
   "metadata": {
    "collapsed": false,
    "pycharm": {
     "name": "#%% md\n"
    }
   }
  },
  {
   "cell_type": "markdown",
   "source": [
    "Hessian of the problem becomes,\n",
    "$H = \\begin{bmatrix}\n",
    "2&0\\\\\n",
    "0&2\n",
    "\\end{bmatrix}$\n",
    "<br/> Since, the Hessian is positive definite the solution (0,1) is optimal."
   ],
   "metadata": {
    "collapsed": false,
    "pycharm": {
     "name": "#%% md\n"
    }
   }
  },
  {
   "cell_type": "markdown",
   "source": [
    "<h2> Problem 2"
   ],
   "metadata": {
    "collapsed": false,
    "pycharm": {
     "name": "#%% md\n"
    }
   }
  },
  {
   "cell_type": "markdown",
   "source": [
    "We have been given,\n",
    "<br/> Minimize $f = -x_1$\n",
    "<br/> $g_1 = x_2 - (1-x_1)^3 \\leq 0$\n",
    "<br/> $g_2 = x_2 \\geq 0$\n",
    "<br/> We can thus rewrite $g_2 = -x_2 \\leq 0$\n",
    "<br/> Thus calculating,\n",
    "<br/> $\\nabla f = \\begin{bmatrix}\n",
    "-1\\\\\n",
    "0\n",
    "\\end{bmatrix}$\n",
    "<br/> $\\frac{\\delta g_1}{\\delta x} = \\begin{bmatrix}\n",
    "3(1-x_1)^2\\\\\n",
    "1\n",
    "\\end{bmatrix} \\rightarrow increasing$\n",
    "<br/> $\\frac{\\delta g_2}{\\delta x} = \\begin{bmatrix}\n",
    "0\\\\\n",
    "-1\n",
    "\\end{bmatrix} \\rightarrow decreasing$\n",
    "<br/> Substituting $x_2 = 0$ in $g_1$, we get $x_1 = 1$\n",
    "<br/> Thus, the local solution of the problem is (1,0) and $f = -1$\n",
    "![Graphical 2!](/assets/images/Graphical%202.jpeg \"G2\")"
   ],
   "metadata": {
    "collapsed": false,
    "pycharm": {
     "name": "#%% md\n"
    }
   }
  },
  {
   "cell_type": "markdown",
   "source": [
    "<h3> Verifying the solution by KKT"
   ],
   "metadata": {
    "collapsed": false,
    "pycharm": {
     "name": "#%% md\n"
    }
   }
  },
  {
   "cell_type": "markdown",
   "source": [
    "$\\nabla f + \\mu^T \\nabla g = 0$\n",
    "<br/> Since, both $g_1$ and $g_2$ are active\n",
    "<br/> We get, $\\nabla f + \\mu_1 \\nabla g_1 + \\mu_2 \\nabla g_2 = 0$\n",
    "<br/> $\\begin{bmatrix}\n",
    "-1\\\\\n",
    "0\n",
    "\\end{bmatrix} +\n",
    "\\mu_1\\begin{bmatrix}\n",
    "3(1-x_1)^2\\\\\n",
    "1\n",
    "\\end{bmatrix} +\n",
    "\\mu_2 \\begin{bmatrix}\n",
    "0\\\\\n",
    "-1\n",
    "\\end{bmatrix} =\n",
    "\\begin{bmatrix}\n",
    "0\\\\\n",
    "0\n",
    "\\end{bmatrix}$\n",
    "<br/> Substituting (0,1), we get,\n",
    "$\\begin{bmatrix}\n",
    "-1\\\\\n",
    "0\n",
    "\\end{bmatrix} +\n",
    "\\mu_1\\begin{bmatrix}\n",
    "0\\\\\n",
    "1\n",
    "\\end{bmatrix} +\n",
    "\\mu_2 \\begin{bmatrix}\n",
    "0\\\\\n",
    "-1\n",
    "\\end{bmatrix} =\n",
    "\\begin{bmatrix}\n",
    "0\\\\\n",
    "0\n",
    "\\end{bmatrix}$\n",
    "<br/> We thus get, -1 = 0 which is not possible and\n",
    "<br/> $\\mu_1 = \\mu_2$\n",
    "<br/> Since, $\\mu_1,\\mu_2 > 0 $ is not satisfied, KKT conditions cannot be verified."
   ],
   "metadata": {
    "collapsed": false,
    "pycharm": {
     "name": "#%% md\n"
    }
   }
  },
  {
   "cell_type": "markdown",
   "source": [
    "<h2> Problem 3"
   ],
   "metadata": {
    "collapsed": false,
    "pycharm": {
     "name": "#%% md\n"
    }
   }
  },
  {
   "cell_type": "markdown",
   "source": [
    "In this problem, we have to find local solution to the problem,\n",
    "<br/> Maximize $f = x_1 x_2 + x_2 x_3 + x_1 x_3$\n",
    "<br/> $h = x_1 + x_2 +x_3 - 3 = 0$\n",
    "<br/> We can rewrite this as,\n",
    "<br/> Minimize $-f$"
   ],
   "metadata": {
    "collapsed": false,
    "pycharm": {
     "name": "#%% md\n"
    }
   }
  },
  {
   "cell_type": "markdown",
   "source": [
    "<h3> Reduced Gradient Method"
   ],
   "metadata": {
    "collapsed": false,
    "pycharm": {
     "name": "#%% md\n"
    }
   }
  },
  {
   "cell_type": "markdown",
   "source": [
    "<br/> Number of equality constraints $m = 1$\n",
    "<br/> Number of variables $n = 3$\n",
    "<br/> Thus number of decision variables $d = n-m = 2$\n",
    "<br/> Thus, let $d = \\begin{bmatrix}\n",
    "x_1\\\\\n",
    "x_2\n",
    "\\end{bmatrix}$\n",
    "<br/> Let state variable $s = x_3$\n",
    "<br/> Thus, $\\frac{\\delta f}{\\delta d}= \\begin{bmatrix}\n",
    "-x_2 -x_3\\\\\n",
    "-x_1 - x_3\n",
    "\\end{bmatrix}$\n",
    "<br/> $\\frac{\\delta h}{\\delta d} = \\begin{bmatrix}\n",
    "1\\\\\n",
    "1\n",
    "\\end{bmatrix}$\n",
    "<br/> $\\frac{\\delta f}{\\delta s} = \\begin{bmatrix}\n",
    "-x_2 - x_1\n",
    "\\end{bmatrix}$\n",
    "<br/> $\\frac{\\delta h}{\\delta s} = \\begin{bmatrix}\n",
    "1\n",
    "\\end{bmatrix}$\n",
    "<br/> Applying conditions for reduced gradient,\n",
    "<br/> $\\frac{\\delta f}{\\delta d} - \\frac{\\delta f}{\\delta s}[\\frac{\\delta h}{\\delta s}]^{-1} \\frac{\\delta h}{\\delta d}  = 0  $\n",
    "<br/> $\\begin{bmatrix}\n",
    "-x_2 - x_3\\\\\n",
    "-x_1 - x_3\n",
    "\\end{bmatrix} +\n",
    "[x_2 + x_1] \\times 1 \\times \\begin{bmatrix}\n",
    "1\\\\\n",
    "1\n",
    "\\end{bmatrix} = 0$\n",
    "<br/> Thus, we get,\n",
    "<br/> $-x_3 + x_1 = 0$, thus, $x_1 = x_3$\n",
    "<br/> and $-x_3 + x_2 = 0$, thus, $x_2 = x_3$\n",
    "<br/> Thus, $x_1 = x_2 = x_3$\n",
    "<br/> Substituting this in $h$, we get,\n",
    "<br/> $3x_3 -3 = 0$, thus, $x_3 = 1$,\n",
    "<br/> Hence, $x_1 = x_2 = x_3 = 1$ is a local solution."
   ],
   "metadata": {
    "collapsed": false,
    "pycharm": {
     "name": "#%% md\n"
    }
   }
  },
  {
   "cell_type": "markdown",
   "source": [
    "<h3> Lagrange Multiplier"
   ],
   "metadata": {
    "collapsed": false,
    "pycharm": {
     "name": "#%% md\n"
    }
   }
  },
  {
   "cell_type": "markdown",
   "source": [
    "Let $L = f + \\lambda h$\n",
    "<br/> $L = -x_1x_2 - x_2x_3 - x_3x_1 + \\lambda(x_1 + x_2 + x_3 - 3)$\n",
    "<br/> $\\frac{\\delta L}{\\delta \\lambda} = x_1 + x_2 + x_3 -3 = 0 \\rightarrow (1)$\n",
    "<br/> $\\frac{\\delta L}{\\delta x} = \\begin{bmatrix}\n",
    "-x_2 - x_3 + \\lambda\\\\\n",
    "-x_1 - x_3 + \\lambda\\\\\n",
    "-x_2 - x_1 + \\lambda\n",
    "\\end{bmatrix} = 0$\n",
    "<br/> From this, we get,\n",
    "<br/> $-x_2 - x_3 + \\lambda = 0$\n",
    "<br/> $-x_1 - x_3 + \\lambda = 0$\n",
    "<br/> Adding the two equations we get,\n",
    "<br/> $-x_1 - x_2 - 2x_3 + 2\\lambda = 0 \\rightarrow (2)$\n",
    "<br/> Substituting $(2)$ in $(1)$ we get,\n",
    "<br/> $-3 - x_3 + 2\\lambda = 0$\n",
    "<br/> $x_3 = 2\\lambda - 3 \\rightarrow (3)$\n",
    "<br/> Similarly, we get,\n",
    "<br/> $x_1 = 2\\lambda - 3 \\rightarrow (4)$\n",
    "<br/> $x_2 = 2\\lambda - 3 \\rightarrow (5)$\n",
    "<br/> Adding $(3)$, $(4)$, $(5)$, we get\n",
    "<br/> $x_1 + x_2 + x_3 = 6\\lambda - 9 \\rightarrow (6)$\n",
    "<br/> But from $(1)$, we know $x_1 + x_2 + x_3 = 3$\n",
    "<br/> Thus, substituting $(1)$ in $(6)$\n",
    "<br/> $3 + 9 = 6\\lambda$\n",
    "<br/> Thus, $\\lambda = 2$\n",
    "<br/> Substituting $\\lambda$ in $(3)$, $(4)$, $(5)$, we get,\n",
    "<br/> $x_1 = x_2 = x_3 = 1$ is a local solution."
   ],
   "metadata": {
    "collapsed": false,
    "pycharm": {
     "name": "#%% md\n"
    }
   }
  },
  {
   "cell_type": "markdown",
   "source": [
    "<h2> Problem 4"
   ],
   "metadata": {
    "collapsed": false,
    "pycharm": {
     "name": "#%% md\n"
    }
   }
  },
  {
   "cell_type": "markdown",
   "source": [
    "In this problem, we have to find $b$ such that,\n",
    "<br/> Maximize $f = 2x_1 + bx_2$\n",
    "<br/> $g_1 = x_1^2 + x_2^2 - 5 \\leq 0$\n",
    "<br/> $g_1 = x_1 - x_2 - 2 \\leq 0$\n",
    "<br/> and $x_1 = 1$ and $x_2 = 2$ is a solution.\n",
    "<br/> We can rewrite this as,\n",
    "<br/> Minimize $-f$\n",
    "<br/> To solve using reduced gradient, we need an equality constraint,\n",
    "<br/> Let $g1 = 0$ and $g_2 = 0$\n",
    "<br/> Thus, at (1,2),\n",
    "<br/> $g_1 = 0 \\rightarrow active$\n",
    "<br/> $g_2 = -3 \\neq 0 \\rightarrow inactive$\n",
    "<br/> Thus number of active constraints $m = 1$\n",
    "<br/> Number of variables $n = 2$\n",
    "<br/> Thus, number of decision variables $d = m-n =1$\n",
    "<br/> Let $d = x_1$ and $s = x_2$\n",
    "<br/> $\\frac{\\delta f}{\\delta d} = -2$\n",
    "<br/> $\\frac{\\delta h}{\\delta d} = 2x_1$\n",
    "<br/> $\\frac{\\delta f}{\\delta s} = -b$\n",
    "<br/> $\\frac{\\delta h}{\\delta s} = 2x_2$\n",
    "<br/> Applying reduced gradient conditions,\n",
    "<br/> <br/> $\\frac{\\delta f}{\\delta d} - \\frac{\\delta f}{\\delta s}[\\frac{\\delta h}{\\delta s}]^{-1} \\frac{\\delta h}{\\delta d}  = 0  $\n",
    "<br/> $-2 - (-b)\\frac{1}{2x_2}(2x_1) = 0$\n",
    "<br/> $-2 + b\\frac{x_1}{x_2} = 0$\n",
    "<br/> Substituting (1,2)\n",
    "<br/> $b = 4$"
   ],
   "metadata": {
    "collapsed": false,
    "pycharm": {
     "name": "#%% md\n"
    }
   }
  },
  {
   "cell_type": "markdown",
   "source": [
    "<h2> Problem 5"
   ],
   "metadata": {
    "collapsed": false,
    "pycharm": {
     "name": "#%% md\n"
    }
   }
  },
  {
   "cell_type": "markdown",
   "source": [
    "Given,\n",
    "<br/> Minimize $f = x_1^2 + x_2^2 + x_3^2$\n",
    "<br/> $h_1 = \\frac{x_1^2}{4} + \\frac{x_2^2}{5} + \\frac{x_3^2}{25} - 1 =0$\n",
    "<br/> $h_2 = x_1 + x_2 - x_3 = 0$\n",
    "<br/> Number of equality conditions $m = 2$\n",
    "<br/> Number of variables $n = 3$\n",
    "<br/> Therefore, $d = 1$, let $x_3 = d$\n",
    "<br/> Therefore, $s = x_1,x_2$"
   ],
   "metadata": {
    "collapsed": false,
    "pycharm": {
     "name": "#%% md\n"
    }
   }
  },
  {
   "cell_type": "code",
   "execution_count": 16,
   "outputs": [],
   "source": [
    "import numpy as np\n",
    "from scipy import linalg"
   ],
   "metadata": {
    "collapsed": false,
    "pycharm": {
     "name": "#%%\n"
    }
   }
  },
  {
   "cell_type": "code",
   "execution_count": 17,
   "outputs": [],
   "source": [
    "def fd(x):\n",
    "    return 2*x[0]"
   ],
   "metadata": {
    "collapsed": false,
    "pycharm": {
     "name": "#%%\n"
    }
   }
  },
  {
   "cell_type": "code",
   "execution_count": 18,
   "outputs": [],
   "source": [
    "def fs(x):\n",
    "    return np.array([[2*x[0]],[2*x[1]]])"
   ],
   "metadata": {
    "collapsed": false,
    "pycharm": {
     "name": "#%%\n"
    }
   }
  },
  {
   "cell_type": "code",
   "execution_count": 63,
   "outputs": [],
   "source": [
    "def hd(x):\n",
    "    return np.array([(2*x[0]/25,-1.0)])"
   ],
   "metadata": {
    "collapsed": false,
    "pycharm": {
     "name": "#%%\n"
    }
   }
  },
  {
   "cell_type": "code",
   "execution_count": 39,
   "outputs": [],
   "source": [
    "def hs(x):\n",
    "    return np.array([(2*x[0]/4,1.0),(2*x[1]/5,1.0)])"
   ],
   "metadata": {
    "collapsed": false,
    "pycharm": {
     "name": "#%%\n"
    }
   }
  },
  {
   "cell_type": "code",
   "execution_count": 91,
   "outputs": [],
   "source": [
    "ak = 0.03\n",
    "dk = np.array([1.0])\n",
    "sk = np.array([1.0,1.0])"
   ],
   "metadata": {
    "collapsed": false,
    "pycharm": {
     "name": "#%%\n"
    }
   }
  },
  {
   "cell_type": "code",
   "execution_count": 94,
   "outputs": [],
   "source": [
    "for x in range(500):\n",
    "    dk = dk - ak*fd(dk)\n",
    "    temp = np.matmul(linalg.inv(hs(sk.reshape(2))),hd(dk).reshape(2,1))\n",
    "    temp1 = np.dot(temp,fd(dk))\n",
    "    sk = sk.reshape(2,1) + ak*temp1"
   ],
   "metadata": {
    "collapsed": false,
    "pycharm": {
     "name": "#%%\n"
    }
   }
  },
  {
   "cell_type": "code",
   "execution_count": 81,
   "outputs": [],
   "source": [
    "dk = dk - ak*fd(dk)"
   ],
   "metadata": {
    "collapsed": false,
    "pycharm": {
     "name": "#%%\n"
    }
   }
  },
  {
   "cell_type": "code",
   "execution_count": 82,
   "outputs": [],
   "source": [
    "temp = np.matmul(linalg.inv(hs(sk)),hd(dk).reshape(2,1))"
   ],
   "metadata": {
    "collapsed": false,
    "pycharm": {
     "name": "#%%\n"
    }
   }
  },
  {
   "cell_type": "code",
   "execution_count": 83,
   "outputs": [],
   "source": [
    "temp1 = np.dot(temp,fd(dk))"
   ],
   "metadata": {
    "collapsed": false,
    "pycharm": {
     "name": "#%%\n"
    }
   }
  },
  {
   "cell_type": "code",
   "execution_count": 85,
   "outputs": [
    {
     "data": {
      "text/plain": "(2, 1)"
     },
     "execution_count": 85,
     "metadata": {},
     "output_type": "execute_result"
    }
   ],
   "source": [
    "temp1.shape"
   ],
   "metadata": {
    "collapsed": false,
    "pycharm": {
     "name": "#%%\n"
    }
   }
  },
  {
   "cell_type": "code",
   "execution_count": 89,
   "outputs": [
    {
     "data": {
      "text/plain": "array([[1.],\n       [1.]])"
     },
     "execution_count": 89,
     "metadata": {},
     "output_type": "execute_result"
    }
   ],
   "source": [
    "sk.reshape(2,1)"
   ],
   "metadata": {
    "collapsed": false,
    "pycharm": {
     "name": "#%%\n"
    }
   }
  },
  {
   "cell_type": "code",
   "execution_count": 96,
   "outputs": [
    {
     "data": {
      "text/plain": "array([3.23729672e-14])"
     },
     "execution_count": 96,
     "metadata": {},
     "output_type": "execute_result"
    }
   ],
   "source": [
    "sk\n",
    "dk"
   ],
   "metadata": {
    "collapsed": false,
    "pycharm": {
     "name": "#%%\n"
    }
   }
  }
 ],
 "metadata": {
  "kernelspec": {
   "display_name": "Python 3",
   "language": "python",
   "name": "python3"
  },
  "language_info": {
   "codemirror_mode": {
    "name": "ipython",
    "version": 2
   },
   "file_extension": ".py",
   "mimetype": "text/x-python",
   "name": "python",
   "nbconvert_exporter": "python",
   "pygments_lexer": "ipython2",
   "version": "2.7.6"
  }
 },
 "nbformat": 4,
 "nbformat_minor": 0
}