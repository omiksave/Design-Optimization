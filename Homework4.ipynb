{
 "cells": [
  {
   "cell_type": "markdown",
   "metadata": {
    "collapsed": true,
    "pycharm": {
     "name": "#%% md\n"
    }
   },
   "source": [
    "<h1> Homework 4"
   ]
  },
  {
   "cell_type": "markdown",
   "source": [
    "<h2> Problem 1"
   ],
   "metadata": {
    "collapsed": false,
    "pycharm": {
     "name": "#%% md\n"
    }
   }
  },
  {
   "cell_type": "markdown",
   "source": [
    "In this problem, we have to find the solution graphically and verify the optimal solution by KKT conditions.\n",
    "We have been given the following <br/>\n",
    "Minimize $f(x) = (x_1 + 1)^2 + (x_2 - 2)^2$<br/>\n",
    "Subject to $g_1 = x_1 - 2\\leq0$, $g_3 = -x_1\\leq0$<br/>\n",
    "$g_2 = x_2 -1 \\leq 0$, $g_4 = -x_2 \\leq0$\n",
    "<br/> From the conditions we get the following points,<br/>\n",
    "$(2,1)$,$(0,0)$,$(2,0)$ and $(0,1)$\n",
    "<br/>\n",
    "\n"
   ],
   "metadata": {
    "collapsed": false,
    "pycharm": {
     "name": "#%% md\n"
    }
   }
  }
 ],
 "metadata": {
  "kernelspec": {
   "display_name": "Python 3",
   "language": "python",
   "name": "python3"
  },
  "language_info": {
   "codemirror_mode": {
    "name": "ipython",
    "version": 2
   },
   "file_extension": ".py",
   "mimetype": "text/x-python",
   "name": "python",
   "nbconvert_exporter": "python",
   "pygments_lexer": "ipython2",
   "version": "2.7.6"
  }
 },
 "nbformat": 4,
 "nbformat_minor": 0
}