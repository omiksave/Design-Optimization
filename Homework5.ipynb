{
 "cells": [
  {
   "cell_type": "markdown",
   "metadata": {
    "collapsed": true,
    "pycharm": {
     "name": "#%% md\n"
    }
   },
   "source": [
    "<h1> Homework 5"
   ]
  },
  {
   "cell_type": "markdown",
   "source": [
    "<h2> Sequential Quadratic Programming"
   ],
   "metadata": {
    "collapsed": false,
    "pycharm": {
     "name": "#%% md\n"
    }
   }
  },
  {
   "cell_type": "code",
   "execution_count": 16,
   "outputs": [],
   "source": [
    "import numpy as np\n",
    "from scipy import linalg"
   ],
   "metadata": {
    "collapsed": false,
    "pycharm": {
     "name": "#%%\n"
    }
   }
  },
  {
   "cell_type": "code",
   "execution_count": 23,
   "outputs": [],
   "source": [
    "def f(x):\n",
    "    return x[0]**2 + (x[1]-3)**2"
   ],
   "metadata": {
    "collapsed": false,
    "pycharm": {
     "name": "#%%\n"
    }
   }
  },
  {
   "cell_type": "code",
   "execution_count": 45,
   "outputs": [],
   "source": [
    "def df(x):\n",
    "    return np.array([[2*x[0]],[2*(x[1]-3)]]).reshape([2,1])"
   ],
   "metadata": {
    "collapsed": false,
    "pycharm": {
     "name": "#%%\n"
    }
   }
  },
  {
   "cell_type": "code",
   "execution_count": 47,
   "outputs": [],
   "source": [
    "def g(x):\n",
    "    return np.array([[x[1]**2-2*x[0]],[(x[1]-1)**2+5*x[0]-15]]).reshape([2,1])"
   ],
   "metadata": {
    "collapsed": false,
    "pycharm": {
     "name": "#%%\n"
    }
   }
  },
  {
   "cell_type": "code",
   "execution_count": 20,
   "outputs": [],
   "source": [
    "def dg(x):\n",
    "    return np.array([[-2,2*x[1]],[5,2*(x[1]-1)]])"
   ],
   "metadata": {
    "collapsed": false,
    "pycharm": {
     "name": "#%%\n"
    }
   }
  },
  {
   "cell_type": "code",
   "execution_count": 34,
   "outputs": [],
   "source": [
    "def lager(df,dg,mu):\n",
    "    return df + np.matmul(mu,dg)"
   ],
   "metadata": {
    "collapsed": false,
    "pycharm": {
     "name": "#%%\n"
    }
   }
  },
  {
   "cell_type": "code",
   "execution_count": 132,
   "outputs": [],
   "source": [
    "def solve_activeset(W,A,c,b,x):\n",
    "    m1 = np.concatenate((W,np.transpose(A)),axis = 1)\n",
    "    print(m1)\n",
    "    m2 = np.concatenate((A,np.zeros((A.shape))),axis = 1)\n",
    "    print(m2)\n",
    "    M = np.concatenate((m1,m2),axis=0) #4x4\n",
    "    print(M)\n",
    "    U = np.concatenate((-c,b),axis=0)\n",
    "    sol = M/U\n",
    "    #sol_flat = sol.flatten()\n",
    "    #s = sol_flat[0:x.size]\n",
    "    #mu = sol_flat[x.size+1:sol_flat.size]\n",
    "    return s,mu,sol.shape"
   ],
   "metadata": {
    "collapsed": false,
    "pycharm": {
     "name": "#%%\n"
    }
   }
  },
  {
   "cell_type": "code",
   "execution_count": 133,
   "outputs": [
    {
     "name": "stdout",
     "output_type": "stream",
     "text": [
      "[[ 0.  0. -2.  5.]\n",
      " [ 0.  0.  2.  0.]]\n",
      "[[-2.  2.  0.  0.]\n",
      " [ 5.  0.  0.  0.]]\n",
      "[[ 0.  0. -2.  5.]\n",
      " [ 0.  0.  2.  0.]\n",
      " [-2.  2.  0.  0.]\n",
      " [ 5.  0.  0.  0.]]\n"
     ]
    },
    {
     "data": {
      "text/plain": "(array([-0., -0.]),\n array([-2.5,  0. ,  0. ,  0.5,  0. , -2. ,  2. ,  0. ,  0. ,  0.5,  0. ,\n         0. ,  0. ]),\n (4, 4))"
     },
     "execution_count": 133,
     "metadata": {},
     "output_type": "execute_result"
    }
   ],
   "source": [
    "solve_activeset(np.zeros([2,2]),dg(x0),df(x0),-g(x0),x0)"
   ],
   "metadata": {
    "collapsed": false,
    "pycharm": {
     "name": "#%%\n"
    }
   }
  },
  {
   "cell_type": "code",
   "execution_count": 21,
   "outputs": [
    {
     "data": {
      "text/plain": "array([[-2,  2],\n       [ 5,  0]])"
     },
     "execution_count": 21,
     "metadata": {},
     "output_type": "execute_result"
    }
   ],
   "source": [
    "def sqp(f,df,g,dg,x0,eps):\n",
    "    x = x0 #1x2\n",
    "    W = np.eye(x.size) #2x2\n",
    "    mu_old = np.zeros(g(x).size) #1x2\n",
    "    w = np.zeros(g(x).size) #1x2\n",
    "    lag_norm = np.linalg.norm(lager(df(x),dg(x),mu_old))\n",
    "    while lag_norm>eps:\n",
    "        [s,mu_new] = qp()"
   ],
   "metadata": {
    "collapsed": false,
    "pycharm": {
     "name": "#%%\n"
    }
   }
  },
  {
   "cell_type": "code",
   "execution_count": 46,
   "outputs": [
    {
     "data": {
      "text/plain": "(2, 1)"
     },
     "execution_count": 46,
     "metadata": {},
     "output_type": "execute_result"
    }
   ],
   "source": [
    "#### Testing Block ####\n",
    "mu_old = np.zeros(g(x0).size)\n",
    "mu_old.size\n",
    "lager(df(x0),dg(x0),mu_old)\n",
    "np.linalg.norm(lager(df(x0),dg(x0),mu_old))\n",
    "df(x0).shape"
   ],
   "metadata": {
    "collapsed": false,
    "pycharm": {
     "name": "#%%\n"
    }
   }
  },
  {
   "cell_type": "code",
   "execution_count": 113,
   "outputs": [
    {
     "data": {
      "text/plain": "array([[0., 0., 2., 3.],\n       [0., 0., 1., 2.]])"
     },
     "execution_count": 113,
     "metadata": {},
     "output_type": "execute_result"
    }
   ],
   "source": [
    "x0 = np.array([1,1])\n",
    "eps = 1e-5\n",
    "A = np.array([[2,1],[3,2]])\n",
    "B = np.array([[1,1],[1,2]])\n",
    "np.zeros([2,2])\n"
   ],
   "metadata": {
    "collapsed": false,
    "pycharm": {
     "name": "#%% Main Script\n"
    }
   }
  }
 ],
 "metadata": {
  "kernelspec": {
   "display_name": "Python 3",
   "language": "python",
   "name": "python3"
  },
  "language_info": {
   "codemirror_mode": {
    "name": "ipython",
    "version": 2
   },
   "file_extension": ".py",
   "mimetype": "text/x-python",
   "name": "python",
   "nbconvert_exporter": "python",
   "pygments_lexer": "ipython2",
   "version": "2.7.6"
  }
 },
 "nbformat": 4,
 "nbformat_minor": 0
}