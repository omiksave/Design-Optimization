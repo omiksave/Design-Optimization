{
 "cells": [
  {
   "cell_type": "markdown",
   "metadata": {
    "collapsed": true,
    "pycharm": {
     "name": "#%% md\n"
    }
   },
   "source": [
    "<h1> Homework 5"
   ]
  },
  {
   "cell_type": "markdown",
   "source": [
    "<h2> Sequential Quadratic Programming"
   ],
   "metadata": {
    "collapsed": false,
    "pycharm": {
     "name": "#%% md\n"
    }
   }
  },
  {
   "cell_type": "code",
   "execution_count": 2,
   "outputs": [],
   "source": [
    "import numpy as np\n",
    "from scipy import linalg"
   ],
   "metadata": {
    "collapsed": false,
    "pycharm": {
     "name": "#%%\n"
    }
   }
  },
  {
   "cell_type": "code",
   "execution_count": 3,
   "outputs": [],
   "source": [
    "def f(x):\n",
    "    return x[0]**2 + (x[1]-3)**2"
   ],
   "metadata": {
    "collapsed": false,
    "pycharm": {
     "name": "#%%\n"
    }
   }
  },
  {
   "cell_type": "code",
   "execution_count": 61,
   "outputs": [],
   "source": [
    "def df(x):\n",
    "    return np.array([[2*x[0]],[2*(x[1]-3)]])"
   ],
   "metadata": {
    "collapsed": false,
    "pycharm": {
     "name": "#%%\n"
    }
   }
  },
  {
   "cell_type": "code",
   "execution_count": 5,
   "outputs": [],
   "source": [
    "def g(x):\n",
    "    return np.array([[x[1]**2-2*x[0]],[(x[1]-1)**2+5*x[0]-15]])"
   ],
   "metadata": {
    "collapsed": false,
    "pycharm": {
     "name": "#%%\n"
    }
   }
  },
  {
   "cell_type": "code",
   "execution_count": 64,
   "outputs": [],
   "source": [
    "def dg(x):\n",
    "    return np.array([[-2,2*x[1]],[5,2*(x[1]-1)]])"
   ],
   "metadata": {
    "collapsed": false,
    "pycharm": {
     "name": "#%%\n"
    }
   }
  },
  {
   "cell_type": "code",
   "execution_count": 88,
   "outputs": [],
   "source": [
    "def lager(x,mu):\n",
    "    return df(x) + np.matmul(mu,dg(x))"
   ],
   "metadata": {
    "collapsed": false,
    "pycharm": {
     "name": "#%%\n"
    }
   }
  },
  {
   "cell_type": "code",
   "execution_count": 115,
   "outputs": [
    {
     "data": {
      "text/plain": "array([0., 0.])"
     },
     "execution_count": 115,
     "metadata": {},
     "output_type": "execute_result"
    }
   ],
   "source": [
    "x0 = np.array([1,1])\n",
    "mu_old = np.ones(g(x0).size)\n",
    "np.maximum(mu_old,np.abs(mu_old)+mu_old*np.array([0.5,0.1]))\n",
    "#x+a*s\n",
    "np.zeros(2)"
   ],
   "metadata": {
    "collapsed": false,
    "pycharm": {
     "name": "#%%\n"
    }
   }
  },
  {
   "cell_type": "code",
   "execution_count": null,
   "outputs": [],
   "source": [
    "def lineSearch(x,s,mu,w):\n",
    "    t = 0.2 #t between [0.01 and 0.3]\n",
    "    b = 0.8 #b between [0.1 and 0.8]\n",
    "    a = 1 #Max step length\n",
    "    w_new = np.maximum(np.abs(mu),0.5*(w+np.abs(mu)))\n",
    "    count = 0\n",
    "    while count<100:\n",
    "        f_a = f(x+a*s) + w_new*np.abs(np.maximum(np.zeros(g(x0).size),g(x+a*s)))\n",
    "        phi_a = (f(x) + w_new*np.abs(np.maximum(np.zeros(g(x0).size),g(x)))\n",
    "                + t*a*(df(x)*s+w_new*(dg(x)*s)))\n",
    "        if f_a>phi_a:\n",
    "            a = a*b\n",
    "            count +=1\n",
    "        else:\n",
    "            break\n",
    "\n",
    "    return  a,w_new"
   ],
   "metadata": {
    "collapsed": false,
    "pycharm": {
     "name": "#%%\n"
    }
   }
  },
  {
   "cell_type": "code",
   "execution_count": null,
   "outputs": [],
   "source": [
    "def qp(x,W):\n",
    "    stop = 0\n",
    "    while stop<1:\n",
    "        s = np.zeros(2)"
   ],
   "metadata": {
    "collapsed": false,
    "pycharm": {
     "name": "#%%\n"
    }
   }
  },
  {
   "cell_type": "code",
   "execution_count": 68,
   "outputs": [],
   "source": [
    "def sqp(x0):\n",
    "    x = x0\n",
    "    #Initialize Hessian\n",
    "    W = np.eye(x.size) #Size 2x2\n",
    "    #Initialize Lagrange Multiplier\n",
    "    mu_old = np.zeros(g(x0).size) #Size 2\n",
    "    #Initialize Weights\n",
    "    w = np.zeros(g(x0).size) #Size 2\n",
    "    #Define Termination Criteria\n",
    "    lag_norm = np.linalg.norm(lager(x,mu_old))\n",
    "    sol = []\n",
    "    sol.append(x0)\n",
    "    while lag_norm>1e-5:\n",
    "        [s,mu_new] = qp(x,W)\n",
    "        [a,w] = lineSearch(x,s,mu_old,w)\n",
    "        dx = a*s #a should always be a constant, s should have two elements\n",
    "        x = x+dx\n",
    "        y_k = lager(x,mu_new) - lager(x-dx,mu_new)\n",
    "        theta = 1#######################\n",
    "        dg_k = theta*y_k + (1-theta)*np.matmul(W,dx)\n",
    "        W = W##########################\n",
    "        lag_norm = np.linalg.norm(lager(x,mu_new))\n",
    "        mu_old = mu_new\n",
    "        sol.append(x)\n"
   ],
   "metadata": {
    "collapsed": false,
    "pycharm": {
     "name": "#%%\n"
    }
   }
  }
 ],
 "metadata": {
  "kernelspec": {
   "display_name": "Python 3",
   "language": "python",
   "name": "python3"
  },
  "language_info": {
   "codemirror_mode": {
    "name": "ipython",
    "version": 2
   },
   "file_extension": ".py",
   "mimetype": "text/x-python",
   "name": "python",
   "nbconvert_exporter": "python",
   "pygments_lexer": "ipython2",
   "version": "2.7.6"
  }
 },
 "nbformat": 4,
 "nbformat_minor": 0
}