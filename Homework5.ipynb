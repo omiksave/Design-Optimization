{
 "cells": [
  {
   "cell_type": "markdown",
   "metadata": {
    "collapsed": true,
    "pycharm": {
     "name": "#%% md\n"
    }
   },
   "source": [
    "<h1> Homework 5"
   ]
  },
  {
   "cell_type": "markdown",
   "source": [
    "<h2> Sequential Quadratic Programming"
   ],
   "metadata": {
    "collapsed": false,
    "pycharm": {
     "name": "#%% md\n"
    }
   }
  },
  {
   "cell_type": "code",
   "execution_count": 2,
   "outputs": [],
   "source": [
    "import numpy as np\n",
    "from scipy import linalg"
   ],
   "metadata": {
    "collapsed": false,
    "pycharm": {
     "name": "#%%\n"
    }
   }
  },
  {
   "cell_type": "code",
   "execution_count": 3,
   "outputs": [],
   "source": [
    "def f(x):\n",
    "    return x[0]**2 + (x[1]-3)**2"
   ],
   "metadata": {
    "collapsed": false,
    "pycharm": {
     "name": "#%%\n"
    }
   }
  },
  {
   "cell_type": "code",
   "execution_count": 4,
   "outputs": [],
   "source": [
    "def df(x):\n",
    "    return np.array([[2*x[0]],[2*(x[1]-3)]]).reshape([2,1])"
   ],
   "metadata": {
    "collapsed": false,
    "pycharm": {
     "name": "#%%\n"
    }
   }
  },
  {
   "cell_type": "code",
   "execution_count": 5,
   "outputs": [],
   "source": [
    "def g(x):\n",
    "    return np.array([[x[1]**2-2*x[0]],[(x[1]-1)**2+5*x[0]-15]]).reshape([2,1])"
   ],
   "metadata": {
    "collapsed": false,
    "pycharm": {
     "name": "#%%\n"
    }
   }
  },
  {
   "cell_type": "code",
   "execution_count": 10,
   "outputs": [],
   "source": [
    "def dg(x):\n",
    "    return np.array([[-2,2*x[1]],[5,2*(x[1]-1)]])"
   ],
   "metadata": {
    "collapsed": false,
    "pycharm": {
     "name": "#%%\n"
    }
   }
  },
  {
   "cell_type": "code",
   "execution_count": 6,
   "outputs": [],
   "source": [
    "def lager(df,dg,mu):\n",
    "    return df + np.matmul(mu,dg)"
   ],
   "metadata": {
    "collapsed": false,
    "pycharm": {
     "name": "#%%\n"
    }
   }
  },
  {
   "cell_type": "code",
   "execution_count": 36,
   "outputs": [],
   "source": [
    "def qp(x,W):\n",
    "\n",
    "    index = []\n",
    "    stop = 0\n",
    "    while stop<1:\n",
    "        A = np.array([])\n",
    "        B = np.array([])\n",
    "        s = []\n",
    "        mu = []\n",
    "        A_old = dg(x)\n",
    "        B_old = -g(x)\n",
    "        id = np.max(index,initial=1).astype(int)\n",
    "        print(id)\n",
    "        for i in range(id):\n",
    "            A = np.concatenate((A,A_old[i,:]),axis=0)\n",
    "            B = np.concatenate((B,B_old[i,:]),axis=0)\n",
    "        print(A,B)\n",
    "        stop = 1"
   ],
   "metadata": {
    "collapsed": false,
    "pycharm": {
     "name": "#%%\n"
    }
   }
  },
  {
   "cell_type": "code",
   "execution_count": 37,
   "outputs": [
    {
     "name": "stdout",
     "output_type": "stream",
     "text": [
      "1\n",
      "[-2.  2.] [1.]\n"
     ]
    }
   ],
   "source": [
    "x0 = np.array([1,1])\n",
    "W = np.eye(x0.size)\n",
    "qp(x0,W)\n",
    "mm = dg(x0)\n",
    "#for i in range(id):\n",
    " #   print(mm)"
   ],
   "metadata": {
    "collapsed": false,
    "pycharm": {
     "name": "#%%\n"
    }
   }
  },
  {
   "cell_type": "code",
   "execution_count": null,
   "outputs": [],
   "source": [
    "def sqp(f,df,g,dg,x0,eps):\n",
    "    x = x0 #1x2\n",
    "    W = np.eye(x.size) #2x2\n",
    "    mu_old = np.zeros(g(x).size) #1x2\n",
    "    w = np.zeros(g(x).size) #1x2\n",
    "    lag_norm = np.linalg.norm(lager(df(x),dg(x),mu_old))\n",
    "    while lag_norm>eps:\n",
    "        [s,mu_new] = qp()"
   ],
   "metadata": {
    "collapsed": false,
    "pycharm": {
     "name": "#%%\n"
    }
   }
  },
  {
   "cell_type": "code",
   "execution_count": 46,
   "outputs": [
    {
     "data": {
      "text/plain": "(2, 1)"
     },
     "execution_count": 46,
     "metadata": {},
     "output_type": "execute_result"
    }
   ],
   "source": [
    "#### Testing Block ####\n",
    "mu_old = np.zeros(g(x0).size)\n",
    "mu_old.size\n",
    "lager(df(x0),dg(x0),mu_old)\n",
    "np.linalg.norm(lager(df(x0),dg(x0),mu_old))\n",
    "df(x0).shape"
   ],
   "metadata": {
    "collapsed": false,
    "pycharm": {
     "name": "#%%\n"
    }
   }
  },
  {
   "cell_type": "code",
   "execution_count": 113,
   "outputs": [
    {
     "data": {
      "text/plain": "array([[0., 0., 2., 3.],\n       [0., 0., 1., 2.]])"
     },
     "execution_count": 113,
     "metadata": {},
     "output_type": "execute_result"
    }
   ],
   "source": [
    "x0 = np.array([1,1])\n",
    "eps = 1e-5\n",
    "A = np.array([[2,1],[3,2]])\n",
    "B = np.array([[1,1],[1,2]])\n",
    "np.zeros([2,2])\n"
   ],
   "metadata": {
    "collapsed": false,
    "pycharm": {
     "name": "#%% Main Script\n"
    }
   }
  }
 ],
 "metadata": {
  "kernelspec": {
   "display_name": "Python 3",
   "language": "python",
   "name": "python3"
  },
  "language_info": {
   "codemirror_mode": {
    "name": "ipython",
    "version": 2
   },
   "file_extension": ".py",
   "mimetype": "text/x-python",
   "name": "python",
   "nbconvert_exporter": "python",
   "pygments_lexer": "ipython2",
   "version": "2.7.6"
  }
 },
 "nbformat": 4,
 "nbformat_minor": 0
}