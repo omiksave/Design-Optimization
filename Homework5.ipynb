{
 "cells": [
  {
   "cell_type": "markdown",
   "metadata": {
    "collapsed": true,
    "pycharm": {
     "name": "#%% md\n"
    }
   },
   "source": [
    "<h1> Homework 5"
   ]
  },
  {
   "cell_type": "markdown",
   "source": [
    "<h2> Sequential Quadratic Programming"
   ],
   "metadata": {
    "collapsed": false,
    "pycharm": {
     "name": "#%% md\n"
    }
   }
  },
  {
   "cell_type": "code",
   "execution_count": 2,
   "outputs": [],
   "source": [
    "import numpy as np\n",
    "from scipy import linalg"
   ],
   "metadata": {
    "collapsed": false,
    "pycharm": {
     "name": "#%%\n"
    }
   }
  },
  {
   "cell_type": "code",
   "execution_count": 3,
   "outputs": [],
   "source": [
    "def f(x):\n",
    "    return x[0]**2 + (x[1]-3)**2"
   ],
   "metadata": {
    "collapsed": false,
    "pycharm": {
     "name": "#%%\n"
    }
   }
  },
  {
   "cell_type": "code",
   "execution_count": 61,
   "outputs": [],
   "source": [
    "def df(x):\n",
    "    return np.array([[2*x[0]],[2*(x[1]-3)]]).reshape([1,2])"
   ],
   "metadata": {
    "collapsed": false,
    "pycharm": {
     "name": "#%%\n"
    }
   }
  },
  {
   "cell_type": "code",
   "execution_count": 5,
   "outputs": [],
   "source": [
    "def g(x):\n",
    "    return np.array([[x[1]**2-2*x[0]],[(x[1]-1)**2+5*x[0]-15]]).reshape([2,1])"
   ],
   "metadata": {
    "collapsed": false,
    "pycharm": {
     "name": "#%%\n"
    }
   }
  },
  {
   "cell_type": "code",
   "execution_count": 64,
   "outputs": [],
   "source": [
    "def dg(x):\n",
    "    return np.array([[-2,2*x[1]],[5,2*(x[1]-1)]]).reshape([2,2])"
   ],
   "metadata": {
    "collapsed": false,
    "pycharm": {
     "name": "#%%\n"
    }
   }
  },
  {
   "cell_type": "code",
   "execution_count": 88,
   "outputs": [],
   "source": [
    "def lager(x,mu):\n",
    "    return df(x) + np.matmul(mu,dg(x))"
   ],
   "metadata": {
    "collapsed": false,
    "pycharm": {
     "name": "#%%\n"
    }
   }
  },
  {
   "cell_type": "code",
   "execution_count": 113,
   "outputs": [
    {
     "data": {
      "text/plain": "array([1.5, 1.1])"
     },
     "execution_count": 113,
     "metadata": {},
     "output_type": "execute_result"
    }
   ],
   "source": [
    "x0 = np.array([1,1])\n",
    "mu_old = np.ones(g(x0).size)\n",
    "np.maximum(mu_old,np.abs(mu_old)+mu_old*np.array([0.5,0.1]))"
   ],
   "metadata": {
    "collapsed": false,
    "pycharm": {
     "name": "#%%\n"
    }
   }
  },
  {
   "cell_type": "code",
   "execution_count": null,
   "outputs": [],
   "source": [
    "def lineSearch(x,s,mu,w):\n",
    "    t = 0.2 #t between [0.01 and 0.3]\n",
    "    b = 0.8 #b between [0.1 and 0.8]\n",
    "    a = 1 #Max step length\n",
    "    w_new = np.maximum(mu_old,np.abs(mu_old)+mu_old*np.array([0.5,0.1]))"
   ],
   "metadata": {
    "collapsed": false,
    "pycharm": {
     "name": "#%%\n"
    }
   }
  },
  {
   "cell_type": "code",
   "execution_count": 68,
   "outputs": [],
   "source": [
    "def sqp(x0):\n",
    "    x = x0\n",
    "    #Initialize Hessian\n",
    "    W = np.eye(x.size) #Size 2x2\n",
    "    #Initialize Lagrange Multiplier\n",
    "    mu_old = np.zeros(g(x0).size) #Size 2\n",
    "    #Initialize Weights\n",
    "    w = np.zeros(g(x0).size) #Size 2\n",
    "    #Define Termination Criteria\n",
    "    lag_norm = np.linalg.norm(lager(x,mu_old))\n",
    "    sol = []\n",
    "    sol.append(x0)\n",
    "    while lag_norm>1e-5:\n",
    "        [s,mu_new] = qp(x,W)\n",
    "        [a,w] = lineSearch(x,s,mu_old,w)\n",
    "        dx = a*s #a should always be a constant, s should have two elements\n",
    "        x = x+dx\n",
    "        y_k = lager(x,mu_new) - lager(x-dx,mu_new)\n",
    "        theta = 1\n",
    "        dg_k = theta*y_k + (1-theta)*np.matmul(W,dx)\n",
    "        lag_norm = np.linalg.norm(lager(x,mu_new))\n",
    "        mu_old = mu_new\n",
    "        sol.append(x)\n",
    "\n"
   ],
   "metadata": {
    "collapsed": false,
    "pycharm": {
     "name": "#%%\n"
    }
   }
  }
 ],
 "metadata": {
  "kernelspec": {
   "display_name": "Python 3",
   "language": "python",
   "name": "python3"
  },
  "language_info": {
   "codemirror_mode": {
    "name": "ipython",
    "version": 2
   },
   "file_extension": ".py",
   "mimetype": "text/x-python",
   "name": "python",
   "nbconvert_exporter": "python",
   "pygments_lexer": "ipython2",
   "version": "2.7.6"
  }
 },
 "nbformat": 4,
 "nbformat_minor": 0
}