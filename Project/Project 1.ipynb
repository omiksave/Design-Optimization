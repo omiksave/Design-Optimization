{
 "cells": [
  {
   "cell_type": "markdown",
   "metadata": {
    "collapsed": true,
    "pycharm": {
     "name": "#%% md\n"
    }
   },
   "source": [
    "# <h1> Project 1"
   ]
  },
  {
   "cell_type": "markdown",
   "source": [
    "# <h2> Gradient - based optimization and differentiable programming"
   ],
   "metadata": {
    "collapsed": false,
    "pycharm": {
     "name": "#%% md\n"
    }
   }
  },
  {
   "cell_type": "markdown",
   "source": [
    "# <h2> Pole - Cart Balancing Controller Design with Neural Network and Gradient Descent."
   ],
   "metadata": {
    "collapsed": false,
    "pycharm": {
     "name": "#%% md\n"
    }
   }
  },
  {
   "cell_type": "markdown",
   "source": [
    "# <h3> Problem Definition"
   ],
   "metadata": {
    "collapsed": false,
    "pycharm": {
     "name": "#%% md\n"
    }
   }
  },
  {
   "cell_type": "markdown",
   "source": [
    "In this problem, the aim is to design a controller $K$ that makes the open-loop pole cart problem into a closed loop system.\n",
    "<br/> The controller $K$ helps the pole - cart system to reach desired cart position $r$ and the pole deviation to $0\\;degrees$.\n",
    "<br/> Designing the parameters of $K$ can be tricky and difficult.\n",
    "<br/> Some common methods of designing the controller are PID and LQR based controllers.\n",
    "<br/> In this problem, we design controller $K$ using Neural Network and Gradient Descent such that the cart reaches $0.4\\;m$ and\n",
    "the pole stays upright at $0\\;degrees$"
   ],
   "metadata": {
    "collapsed": false,
    "pycharm": {
     "name": "#%% md\n"
    }
   }
  },
  {
   "cell_type": "code",
   "source": [
    "# Importing Libraries\n",
    "import logging\n",
    "import numpy as np\n",
    "import torch as t\n",
    "import torch.nn as nn\n",
    "from torch import optim\n",
    "import matplotlib.pyplot as plt\n",
    "logger = logging.getLogger(__name__)"
   ],
   "metadata": {
    "collapsed": false,
    "pycharm": {
     "name": "#%%\n"
    }
   },
   "execution_count": 200,
   "outputs": []
  },
  {
   "cell_type": "markdown",
   "source": [
    "# <h3> System Properties"
   ],
   "metadata": {
    "collapsed": false,
    "pycharm": {
     "name": "#%% md\n"
    }
   }
  },
  {
   "cell_type": "markdown",
   "source": [
    "The pole - cart system is clearly described in the diagram below:<br/>\n",
    "![Pole](/assets/images/Cart_Pendulum.PNG \"Pole-Cart\")"
   ],
   "metadata": {
    "collapsed": false,
    "pycharm": {
     "name": "#%% md\n"
    }
   }
  },
  {
   "cell_type": "markdown",
   "source": [
    "In order to solve the problem, the states needs to be defined accurately. The states chosen are $x = [x\\;\\dot{x}\\;\\theta\\;\\dot{\\theta}]$, where\n",
    "$x$ is the cart position in meters and $\\theta$ is the pole deviation from vertical in $rads$.\n",
    "![State_Space!](/assets/images/State_Space.PNG \"State Space\")\n",
    "<br/> Where the parameters are as follows:<br/>\n",
    "1. Mass of Cart ($M$) = 0.5 $kg$\n",
    "2. Mass of Pole ($m$) = 0.2 $kg$\n",
    "3. Co-effienct of Friction ($b$) = 0.1 $N/m/sec$\n",
    "4. Length to Pole Center of Mass ($l$) = 0.3 $m$\n",
    "5. Mass Moment of Inertia of Pole = 0.006 $kgm^2$\n",
    "<br/>Since, the states of interest are $x$ and $\\theta$ the $C$ matrix is given as:<br/>\n",
    "$C = \\begin{bmatrix}\n",
    "1&0&0&0\\\\\n",
    "0&0&1&0\n",
    "\\end{bmatrix}\n",
    "$\n",
    "<br/> The state transition matrix $A$ and control matrix $B$ in discrete states are derived from\n",
    "continuous state-space model presented by **[UMichigan CTMS](https://ctms.engin.umich.edu/CTMS/index.php?example=InvertedPendulum&section=ControlDigital)**."
   ],
   "metadata": {
    "collapsed": false,
    "pycharm": {
     "name": "#%% md\n"
    }
   }
  },
  {
   "cell_type": "code",
   "execution_count": 201,
   "outputs": [],
   "source": [
    "# Setting A, B, C and D matrices\n",
    "A = t.tensor([[1,0.009991,0.0001336,4.453e-07],\n",
    "             [0,0.9982,0.02672,0.0001336],\n",
    "             [0,-2.272e-05,1.002,0.01001],\n",
    "             [0,-0.004544,0.3119,1.002]]).float()\n",
    "B = t.tensor([[9.086e-05],\n",
    "              [0.01817],\n",
    "              [0.0002272],\n",
    "              [0.04544]]).float()"
   ],
   "metadata": {
    "collapsed": false,
    "pycharm": {
     "name": "#%%\n"
    }
   }
  },
  {
   "cell_type": "markdown",
   "source": [
    "To create the State Transition loop, we need to understand the control diagram below (courtesy: **[UMichigan CTMS](https://ctms.engin.umich.edu/CTMS/index.php?example=InvertedPendulum&section=ControlDigital)**):\n",
    "![Control Diagram with Feedback!](/assets/images/Control%20Diagram.PNG \"Control Diagram Discrete\")\n",
    "<br/> Based on the diagram the loop becomes:<br/>\n",
    "**Measurement Update:**<br/>\n",
    "$y = Cx$<br/>\n",
    "**State Update:**<br/>\n",
    "$u = r - Kx$<br/>\n",
    "$x_{n+1} = Ax_{n} + Bu$\n",
    "<br/> This is programmed in the class $Dynamics$ that will simulate the state transition."
   ],
   "metadata": {
    "collapsed": false,
    "pycharm": {
     "name": "#%% md\n"
    }
   }
  },
  {
   "cell_type": "markdown",
   "source": [
    "# <h3> Defining System Dynamics"
   ],
   "metadata": {
    "collapsed": false,
    "pycharm": {
     "name": "#%% md\n"
    }
   }
  },
  {
   "cell_type": "code",
   "execution_count": 202,
   "outputs": [],
   "source": [
    "# Defining State Transiton Dynamics\n",
    "class Dynamics(nn.Module):\n",
    "    def __init__(self):\n",
    "        super(Dynamics, self).__init__()\n",
    "    @staticmethod\n",
    "    def forward(state,k,ref):\n",
    "        kx = t.tensor([ref]) - t.matmul(k.reshape(1,4),state.reshape(4,1)) #Calculating u\n",
    "        dx = t.matmul(B,kx).reshape(4,1) #Calculating Bu\n",
    "        state = t.matmul(A,state.reshape(4,1)) + dx #Calculating x(n+1)\n",
    "        return state.reshape(1,4)"
   ],
   "metadata": {
    "collapsed": false,
    "pycharm": {
     "name": "#%%\n"
    }
   }
  },
  {
   "cell_type": "markdown",
   "source": [
    "# <h3> Controller Neural Network"
   ],
   "metadata": {
    "collapsed": false,
    "pycharm": {
     "name": "#%% md\n"
    }
   }
  },
  {
   "cell_type": "markdown",
   "source": [
    "The controller $K$ is assumed to be some function of states $x$ such that $K = f(x)$ that minimizes error\n",
    "between $y$ and $r$. To do that, the neural network is chosen of the following architecture.<br/>\n",
    "**Input Dimension: 4**<br/>\n",
    "**Activation Function: Tanh**<br/>\n",
    "**Hidden Layer Dimension: 10**<br/>\n",
    "**Activation Function: Tanh**<br/>\n",
    "**Hidden Layer Dimension: 10**<br/>\n",
    "**Ouput Layer Dimension: 4**<br/>\n",
    "This makes sure that the neural network predicts the $4$ gains in the controller $K_{1\\times4}$ ."
   ],
   "metadata": {
    "collapsed": false,
    "pycharm": {
     "name": "#%% md\n"
    }
   }
  },
  {
   "cell_type": "code",
   "execution_count": 203,
   "outputs": [],
   "source": [
    "# Defining Controller K that is supposed to help the Cart and Pole reach the reference positions\n",
    "class Controller(nn.Module):\n",
    "    def __init__(self, dim_input, dim_hidden, dim_output):\n",
    "        \"\"\"\n",
    "        dim_input: # of system states\n",
    "        dim_output: # of actions\n",
    "        dim_hidden: up to you\n",
    "        \"\"\"\n",
    "        super(Controller, self).__init__()\n",
    "        self.network = nn.Sequential(\n",
    "            nn.Linear(dim_input,dim_hidden),\n",
    "            nn.Tanh(),\n",
    "            nn.Linear(dim_hidden,dim_hidden),\n",
    "            nn.Tanh(),\n",
    "            nn.Linear(dim_hidden,dim_output)\n",
    "        )\n",
    "\n",
    "    def forward(self, state):\n",
    "        k = self.network(state)\n",
    "        return k"
   ],
   "metadata": {
    "collapsed": false,
    "pycharm": {
     "name": "#%%\n"
    }
   }
  },
  {
   "cell_type": "markdown",
   "source": [
    "# <h3> Simulation Class"
   ],
   "metadata": {
    "collapsed": false,
    "pycharm": {
     "name": "#%% md\n"
    }
   }
  },
  {
   "cell_type": "markdown",
   "source": [
    "Here, the $Simulation.forward()$ function simulates the states from $t_0$ to $t_{final}$ with increments of $\\delta T$.\n",
    "<br/> $t_0 = 0$, $t_{final} = 2\\;seconds$ and $\\delta T = 0.01$.\n",
    "<br/> The error is chosen as Least Squares defined as:<br/>\n",
    "$min_{error} = \\sum (x_{1}-r)^2 + x_{3}^2$,<br/>\n",
    "where $x_1$ is cart position, $r$ is desired position of cart and $x_3$ is pole deviation from vertical."
   ],
   "metadata": {
    "collapsed": false,
    "pycharm": {
     "name": "#%% md\n"
    }
   }
  },
  {
   "cell_type": "code",
   "execution_count": 204,
   "outputs": [],
   "source": [
    "# Define Simulator that calculates new states\n",
    "class Simulation(nn.Module):\n",
    "\n",
    "    def __init__(self, controller, dynamics, T,ref):\n",
    "        super(Simulation, self).__init__()\n",
    "        self.state = self.initialize_state()\n",
    "        self.controller = controller\n",
    "        self.dynamics = dynamics\n",
    "        self.T = T\n",
    "        self.ref = ref\n",
    "        self.optim = optim.SGD(self.controller.parameters(),lr=0.1)\n",
    "        self.action_trajectory = []\n",
    "\n",
    "    def forward(self, state):\n",
    "        self.state_trajectory = []\n",
    "        #loss = t.zeros(size=(T,1))\n",
    "        state = self.state\n",
    "        action = self.controller.forward(state)\n",
    "        for i in range(T):\n",
    "            self.state_trajectory.append(state)\n",
    "            state = self.dynamics.forward(state,action,ref)\n",
    "            loss = self.error(state,ref)\n",
    "            self.optim.zero_grad()\n",
    "            loss.backward(retain_graph = True)\n",
    "        self.action_trajectory.append(action)\n",
    "        return loss\n",
    "\n",
    "    @staticmethod\n",
    "    def initialize_state():\n",
    "        state = [0.,0.,0.,0.]\n",
    "        return t.tensor(state,requires_grad=False).float()\n",
    "    def error(self,state,ref):\n",
    "        return (state[0][0]-ref)**2 + state[0][2]**2"
   ],
   "metadata": {
    "collapsed": false,
    "pycharm": {
     "name": "#%%\n"
    }
   }
  },
  {
   "cell_type": "markdown",
   "source": [
    "# <h3> Optimize Class"
   ],
   "metadata": {
    "collapsed": false,
    "pycharm": {
     "name": "#%% md\n"
    }
   }
  },
  {
   "cell_type": "code",
   "execution_count": 205,
   "outputs": [],
   "source": [
    "class Optimize:\n",
    "    def __init__(self, simulation):\n",
    "        self.simulation = simulation\n",
    "        self.parameters = simulation.controller.parameters()\n",
    "        self.optimizer = optim.LBFGS(self.parameters, lr=0.01)# Optimizer Function\n",
    "    def step(self):\n",
    "        def closure():\n",
    "            loss = self.simulation(self.simulation.state) # Calculate Loss\n",
    "            self.optimizer.zero_grad() # Clear Gradient for next iteration\n",
    "            loss.backward() # Back Propagate and Update weights.\n",
    "            return loss\n",
    "        self.optimizer.step(closure)\n",
    "        return closure()\n",
    "\n",
    "\n",
    "    def train(self, epochs):\n",
    "        loss_vec = [] # Store loss to plot convergence\n",
    "        for epoch in range(epochs):\n",
    "            #loss = self.step()\n",
    "            loss = self.simulation(self.simulation.state)\n",
    "            loss_vec.append(loss)\n",
    "            print('[%d] loss: %.3f' % (epoch + 1, loss))\n",
    "            #if epoch%5==0:\n",
    "               #self.visualize() #Plot States every 5 epochs\n",
    "        return loss_vec\n",
    "\n",
    "    def visualize(self):\n",
    "        data = np.array([self.simulation.state_trajectory[i].detach().numpy() for i in range(self.simulation.T)])\n",
    "        x = data[:,0,0]\n",
    "        y = data[:,0,2]\n",
    "        fig,ax = plt.subplots()\n",
    "        ax1 = ax.twinx()\n",
    "        ax.plot(x,color = 'tab:red',label='Cart')\n",
    "        ax.set_ylabel('Meters (m)',color = 'tab:red')\n",
    "        ax.set_xlabel('Time Step (seconds x 100)')\n",
    "        ax.legend()\n",
    "        ax1.plot(y,color = 'tab:blue',label = 'Pole')\n",
    "        ax1.set_ylabel('Radians (rad)',color = 'tab:blue')\n",
    "        ax1.legend()\n",
    "        plt.title('Step Response')\n",
    "        plt.show()"
   ],
   "metadata": {
    "collapsed": false,
    "pycharm": {
     "name": "#%%\n"
    }
   }
  },
  {
   "cell_type": "markdown",
   "source": [
    "# <h3> Run system"
   ],
   "metadata": {
    "collapsed": false,
    "pycharm": {
     "name": "#%% md\n"
    }
   }
  },
  {
   "cell_type": "code",
   "execution_count": 206,
   "outputs": [
    {
     "name": "stdout",
     "output_type": "stream",
     "text": [
      "[1] loss: 219357724672.000\n",
      "[2] loss: 219357724672.000\n",
      "[3] loss: 219357724672.000\n"
     ]
    },
    {
     "ename": "KeyboardInterrupt",
     "evalue": "",
     "output_type": "error",
     "traceback": [
      "\u001B[1;31m---------------------------------------------------------------------------\u001B[0m",
      "\u001B[1;31mKeyboardInterrupt\u001B[0m                         Traceback (most recent call last)",
      "\u001B[1;32mC:\\Users\\OMIKSA~1\\AppData\\Local\\Temp/ipykernel_14576/4162382278.py\u001B[0m in \u001B[0;36m<module>\u001B[1;34m\u001B[0m\n\u001B[0;32m      9\u001B[0m \u001B[0ms\u001B[0m \u001B[1;33m=\u001B[0m \u001B[0mSimulation\u001B[0m\u001B[1;33m(\u001B[0m\u001B[0mc\u001B[0m\u001B[1;33m,\u001B[0m\u001B[0md\u001B[0m\u001B[1;33m,\u001B[0m \u001B[0mT\u001B[0m\u001B[1;33m,\u001B[0m\u001B[0mref\u001B[0m\u001B[1;33m)\u001B[0m  \u001B[1;31m# define simulation\u001B[0m\u001B[1;33m\u001B[0m\u001B[1;33m\u001B[0m\u001B[0m\n\u001B[0;32m     10\u001B[0m \u001B[0mo\u001B[0m \u001B[1;33m=\u001B[0m \u001B[0mOptimize\u001B[0m\u001B[1;33m(\u001B[0m\u001B[0ms\u001B[0m\u001B[1;33m)\u001B[0m  \u001B[1;31m# define optimizer\u001B[0m\u001B[1;33m\u001B[0m\u001B[1;33m\u001B[0m\u001B[0m\n\u001B[1;32m---> 11\u001B[1;33m \u001B[0merror\u001B[0m \u001B[1;33m=\u001B[0m \u001B[0mo\u001B[0m\u001B[1;33m.\u001B[0m\u001B[0mtrain\u001B[0m\u001B[1;33m(\u001B[0m\u001B[1;36m100\u001B[0m\u001B[1;33m)\u001B[0m \u001B[1;31m# Store Error for Convergence Plot\u001B[0m\u001B[1;33m\u001B[0m\u001B[1;33m\u001B[0m\u001B[0m\n\u001B[0m\u001B[0;32m     12\u001B[0m \u001B[1;33m\u001B[0m\u001B[0m\n",
      "\u001B[1;32mC:\\Users\\OMIKSA~1\\AppData\\Local\\Temp/ipykernel_14576/3766183680.py\u001B[0m in \u001B[0;36mtrain\u001B[1;34m(self, epochs)\u001B[0m\n\u001B[0;32m     18\u001B[0m         \u001B[1;32mfor\u001B[0m \u001B[0mepoch\u001B[0m \u001B[1;32min\u001B[0m \u001B[0mrange\u001B[0m\u001B[1;33m(\u001B[0m\u001B[0mepochs\u001B[0m\u001B[1;33m)\u001B[0m\u001B[1;33m:\u001B[0m\u001B[1;33m\u001B[0m\u001B[1;33m\u001B[0m\u001B[0m\n\u001B[0;32m     19\u001B[0m             \u001B[1;31m#loss = self.step()\u001B[0m\u001B[1;33m\u001B[0m\u001B[1;33m\u001B[0m\u001B[1;33m\u001B[0m\u001B[0m\n\u001B[1;32m---> 20\u001B[1;33m             \u001B[0mloss\u001B[0m \u001B[1;33m=\u001B[0m \u001B[0mself\u001B[0m\u001B[1;33m.\u001B[0m\u001B[0msimulation\u001B[0m\u001B[1;33m(\u001B[0m\u001B[0mself\u001B[0m\u001B[1;33m.\u001B[0m\u001B[0msimulation\u001B[0m\u001B[1;33m.\u001B[0m\u001B[0mstate\u001B[0m\u001B[1;33m)\u001B[0m\u001B[1;33m\u001B[0m\u001B[1;33m\u001B[0m\u001B[0m\n\u001B[0m\u001B[0;32m     21\u001B[0m             \u001B[0mloss_vec\u001B[0m\u001B[1;33m.\u001B[0m\u001B[0mappend\u001B[0m\u001B[1;33m(\u001B[0m\u001B[0mloss\u001B[0m\u001B[1;33m)\u001B[0m\u001B[1;33m\u001B[0m\u001B[1;33m\u001B[0m\u001B[0m\n\u001B[0;32m     22\u001B[0m             \u001B[0mprint\u001B[0m\u001B[1;33m(\u001B[0m\u001B[1;34m'[%d] loss: %.3f'\u001B[0m \u001B[1;33m%\u001B[0m \u001B[1;33m(\u001B[0m\u001B[0mepoch\u001B[0m \u001B[1;33m+\u001B[0m \u001B[1;36m1\u001B[0m\u001B[1;33m,\u001B[0m \u001B[0mloss\u001B[0m\u001B[1;33m)\u001B[0m\u001B[1;33m)\u001B[0m\u001B[1;33m\u001B[0m\u001B[1;33m\u001B[0m\u001B[0m\n",
      "\u001B[1;32mc:\\users\\omik save\\appdata\\local\\programs\\python\\python39\\lib\\site-packages\\torch\\nn\\modules\\module.py\u001B[0m in \u001B[0;36m_call_impl\u001B[1;34m(self, *input, **kwargs)\u001B[0m\n\u001B[0;32m   1049\u001B[0m         if not (self._backward_hooks or self._forward_hooks or self._forward_pre_hooks or _global_backward_hooks\n\u001B[0;32m   1050\u001B[0m                 or _global_forward_hooks or _global_forward_pre_hooks):\n\u001B[1;32m-> 1051\u001B[1;33m             \u001B[1;32mreturn\u001B[0m \u001B[0mforward_call\u001B[0m\u001B[1;33m(\u001B[0m\u001B[1;33m*\u001B[0m\u001B[0minput\u001B[0m\u001B[1;33m,\u001B[0m \u001B[1;33m**\u001B[0m\u001B[0mkwargs\u001B[0m\u001B[1;33m)\u001B[0m\u001B[1;33m\u001B[0m\u001B[1;33m\u001B[0m\u001B[0m\n\u001B[0m\u001B[0;32m   1052\u001B[0m         \u001B[1;31m# Do not call functions when jit is used\u001B[0m\u001B[1;33m\u001B[0m\u001B[1;33m\u001B[0m\u001B[1;33m\u001B[0m\u001B[0m\n\u001B[0;32m   1053\u001B[0m         \u001B[0mfull_backward_hooks\u001B[0m\u001B[1;33m,\u001B[0m \u001B[0mnon_full_backward_hooks\u001B[0m \u001B[1;33m=\u001B[0m \u001B[1;33m[\u001B[0m\u001B[1;33m]\u001B[0m\u001B[1;33m,\u001B[0m \u001B[1;33m[\u001B[0m\u001B[1;33m]\u001B[0m\u001B[1;33m\u001B[0m\u001B[1;33m\u001B[0m\u001B[0m\n",
      "\u001B[1;32mC:\\Users\\OMIKSA~1\\AppData\\Local\\Temp/ipykernel_14576/3876419543.py\u001B[0m in \u001B[0;36mforward\u001B[1;34m(self, state)\u001B[0m\n\u001B[0;32m     22\u001B[0m             \u001B[0mloss\u001B[0m \u001B[1;33m=\u001B[0m \u001B[0mself\u001B[0m\u001B[1;33m.\u001B[0m\u001B[0merror\u001B[0m\u001B[1;33m(\u001B[0m\u001B[0mstate\u001B[0m\u001B[1;33m,\u001B[0m\u001B[0mref\u001B[0m\u001B[1;33m)\u001B[0m\u001B[1;33m\u001B[0m\u001B[1;33m\u001B[0m\u001B[0m\n\u001B[0;32m     23\u001B[0m             \u001B[0mself\u001B[0m\u001B[1;33m.\u001B[0m\u001B[0moptim\u001B[0m\u001B[1;33m.\u001B[0m\u001B[0mzero_grad\u001B[0m\u001B[1;33m(\u001B[0m\u001B[1;33m)\u001B[0m\u001B[1;33m\u001B[0m\u001B[1;33m\u001B[0m\u001B[0m\n\u001B[1;32m---> 24\u001B[1;33m             \u001B[0mloss\u001B[0m\u001B[1;33m.\u001B[0m\u001B[0mbackward\u001B[0m\u001B[1;33m(\u001B[0m\u001B[0mretain_graph\u001B[0m \u001B[1;33m=\u001B[0m \u001B[1;32mTrue\u001B[0m\u001B[1;33m)\u001B[0m\u001B[1;33m\u001B[0m\u001B[1;33m\u001B[0m\u001B[0m\n\u001B[0m\u001B[0;32m     25\u001B[0m         \u001B[0mself\u001B[0m\u001B[1;33m.\u001B[0m\u001B[0maction_trajectory\u001B[0m\u001B[1;33m.\u001B[0m\u001B[0mappend\u001B[0m\u001B[1;33m(\u001B[0m\u001B[0maction\u001B[0m\u001B[1;33m)\u001B[0m\u001B[1;33m\u001B[0m\u001B[1;33m\u001B[0m\u001B[0m\n\u001B[0;32m     26\u001B[0m         \u001B[1;32mreturn\u001B[0m \u001B[0mloss\u001B[0m\u001B[1;33m\u001B[0m\u001B[1;33m\u001B[0m\u001B[0m\n",
      "\u001B[1;32mc:\\users\\omik save\\appdata\\local\\programs\\python\\python39\\lib\\site-packages\\torch\\_tensor.py\u001B[0m in \u001B[0;36mbackward\u001B[1;34m(self, gradient, retain_graph, create_graph, inputs)\u001B[0m\n\u001B[0;32m    253\u001B[0m                 \u001B[0mcreate_graph\u001B[0m\u001B[1;33m=\u001B[0m\u001B[0mcreate_graph\u001B[0m\u001B[1;33m,\u001B[0m\u001B[1;33m\u001B[0m\u001B[1;33m\u001B[0m\u001B[0m\n\u001B[0;32m    254\u001B[0m                 inputs=inputs)\n\u001B[1;32m--> 255\u001B[1;33m         \u001B[0mtorch\u001B[0m\u001B[1;33m.\u001B[0m\u001B[0mautograd\u001B[0m\u001B[1;33m.\u001B[0m\u001B[0mbackward\u001B[0m\u001B[1;33m(\u001B[0m\u001B[0mself\u001B[0m\u001B[1;33m,\u001B[0m \u001B[0mgradient\u001B[0m\u001B[1;33m,\u001B[0m \u001B[0mretain_graph\u001B[0m\u001B[1;33m,\u001B[0m \u001B[0mcreate_graph\u001B[0m\u001B[1;33m,\u001B[0m \u001B[0minputs\u001B[0m\u001B[1;33m=\u001B[0m\u001B[0minputs\u001B[0m\u001B[1;33m)\u001B[0m\u001B[1;33m\u001B[0m\u001B[1;33m\u001B[0m\u001B[0m\n\u001B[0m\u001B[0;32m    256\u001B[0m \u001B[1;33m\u001B[0m\u001B[0m\n\u001B[0;32m    257\u001B[0m     \u001B[1;32mdef\u001B[0m \u001B[0mregister_hook\u001B[0m\u001B[1;33m(\u001B[0m\u001B[0mself\u001B[0m\u001B[1;33m,\u001B[0m \u001B[0mhook\u001B[0m\u001B[1;33m)\u001B[0m\u001B[1;33m:\u001B[0m\u001B[1;33m\u001B[0m\u001B[1;33m\u001B[0m\u001B[0m\n",
      "\u001B[1;32mc:\\users\\omik save\\appdata\\local\\programs\\python\\python39\\lib\\site-packages\\torch\\autograd\\__init__.py\u001B[0m in \u001B[0;36mbackward\u001B[1;34m(tensors, grad_tensors, retain_graph, create_graph, grad_variables, inputs)\u001B[0m\n\u001B[0;32m    145\u001B[0m         \u001B[0mretain_graph\u001B[0m \u001B[1;33m=\u001B[0m \u001B[0mcreate_graph\u001B[0m\u001B[1;33m\u001B[0m\u001B[1;33m\u001B[0m\u001B[0m\n\u001B[0;32m    146\u001B[0m \u001B[1;33m\u001B[0m\u001B[0m\n\u001B[1;32m--> 147\u001B[1;33m     Variable._execution_engine.run_backward(\n\u001B[0m\u001B[0;32m    148\u001B[0m         \u001B[0mtensors\u001B[0m\u001B[1;33m,\u001B[0m \u001B[0mgrad_tensors_\u001B[0m\u001B[1;33m,\u001B[0m \u001B[0mretain_graph\u001B[0m\u001B[1;33m,\u001B[0m \u001B[0mcreate_graph\u001B[0m\u001B[1;33m,\u001B[0m \u001B[0minputs\u001B[0m\u001B[1;33m,\u001B[0m\u001B[1;33m\u001B[0m\u001B[1;33m\u001B[0m\u001B[0m\n\u001B[0;32m    149\u001B[0m         allow_unreachable=True, accumulate_grad=True)  # allow_unreachable flag\n",
      "\u001B[1;31mKeyboardInterrupt\u001B[0m: "
     ]
    }
   ],
   "source": [
    "# Parameters for Running the System\n",
    "dim_input = 4 # Number of Inputs to Neural Network = Number of States\n",
    "dim_output = 4 # Number of Outputs from Neural Network = Number of Gains of K\n",
    "dim_hidden = 10 # Hidden Layers for advanced computation of gains\n",
    "ref = 0.4 #Reference Position for Cart\n",
    "T = 300 #Time Steps to Simulate\n",
    "d = Dynamics()  # define dynamics\n",
    "c = Controller(dim_input, dim_hidden, dim_output)  # define controller\n",
    "s = Simulation(c,d, T,ref)  # define simulation\n",
    "o = Optimize(s)  # define optimizer\n",
    "error = o.train(100) # Store Error for Convergence Plot"
   ],
   "metadata": {
    "collapsed": false,
    "pycharm": {
     "name": "#%%\n"
    }
   }
  },
  {
   "cell_type": "code",
   "execution_count": null,
   "outputs": [],
   "source": [
    "# Plotting Convergence\n",
    "plt.plot(t.tensor(error).detach().numpy())\n",
    "plt.ylabel('Error')\n",
    "plt.xlabel('Epochs')\n",
    "plt.title('Error Convergence')\n",
    "plt.show()"
   ],
   "metadata": {
    "collapsed": false,
    "pycharm": {
     "name": "#%%\n"
    }
   }
  },
  {
   "cell_type": "code",
   "execution_count": null,
   "outputs": [],
   "source": [
    "# Ideal Controller Gains\n",
    "print('The ideal Controller K = ',s.action_trajectory[-1][:].clone().detach().numpy())"
   ],
   "metadata": {
    "collapsed": false,
    "pycharm": {
     "name": "#%%\n"
    }
   }
  },
  {
   "cell_type": "markdown",
   "source": [
    "# <h3> Analysis of Results\n",
    "Using the Controller $K = \\begin{bmatrix}\n",
    "-0.0205051 & -3.553205  &1.542318  &3.27144\n",
    "\\end{bmatrix}$, we were able to bring the position of the cart to $r =0.4$ meters while the pole was kept upright at $0$ degrees.\n",
    "<br/> The state trajectory of the system with the optimized controller can be visualized below:<br/>"
   ],
   "metadata": {
    "collapsed": false,
    "pycharm": {
     "name": "#%% md\n"
    }
   }
  },
  {
   "cell_type": "code",
   "execution_count": null,
   "outputs": [],
   "source": [
    "o.visualize()"
   ],
   "metadata": {
    "collapsed": false,
    "pycharm": {
     "name": "#%%\n"
    }
   }
  },
  {
   "cell_type": "markdown",
   "source": [
    "This shows that the controller was able to stabilize the system in 2 seconds.<br/>\n",
    "Thus it can be claimed that one can find an ideal controller $K$ for a dynamic system that optimizes the\n",
    "required step response.<br/>\n",
    "Future improvement could include extending this approach to:<br/>\n",
    "1. Stabilizing both pole and cart position to a certain reference.<br/>\n",
    "2. Stabilizing a dual pole system on the same cart."
   ],
   "metadata": {
    "collapsed": false,
    "pycharm": {
     "name": "#%% md\n"
    }
   }
  },
  {
   "cell_type": "code",
   "execution_count": null,
   "outputs": [],
   "source": [
    "w= t.linalg.eigvals(A - t.matmul(B.reshape(4,1),s.action_trajectory[-1][:].reshape(1,4)))\n",
    "v = (t.view_as_real(w))\n",
    "v[:,:2]"
   ],
   "metadata": {
    "collapsed": false,
    "pycharm": {
     "name": "#%%\n"
    }
   }
  },
  {
   "cell_type": "code",
   "execution_count": null,
   "outputs": [],
   "source": [
    "t.empty(size = (200,1))"
   ],
   "metadata": {
    "collapsed": false,
    "pycharm": {
     "name": "#%%\n"
    }
   }
  }
 ],
 "metadata": {
  "kernelspec": {
   "display_name": "Python 3",
   "language": "python",
   "name": "python3"
  },
  "language_info": {
   "codemirror_mode": {
    "name": "ipython",
    "version": 2
   },
   "file_extension": ".py",
   "mimetype": "text/x-python",
   "name": "python",
   "nbconvert_exporter": "python",
   "pygments_lexer": "ipython2",
   "version": "2.7.6"
  }
 },
 "nbformat": 4,
 "nbformat_minor": 0
}